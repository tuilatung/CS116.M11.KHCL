{
  "nbformat": 4,
  "nbformat_minor": 0,
  "metadata": {
    "colab": {
      "name": "19522492_BT1.ipynb",
      "provenance": [],
      "collapsed_sections": []
    },
    "kernelspec": {
      "name": "python3",
      "display_name": "Python 3"
    },
    "language_info": {
      "name": "python"
    }
  },
  "cells": [
    {
      "cell_type": "markdown",
      "metadata": {
        "id": "78bCjbubvzwV"
      },
      "source": [
        "# Cài đặt Geopandas"
      ]
    },
    {
      "cell_type": "code",
      "metadata": {
        "colab": {
          "base_uri": "https://localhost:8080/"
        },
        "id": "ZTcYvfNao6Xj",
        "outputId": "25a378f9-95fe-4622-cfb7-ff0e2ab937be"
      },
      "source": [
        "pip install geopandas"
      ],
      "execution_count": 1,
      "outputs": [
        {
          "output_type": "stream",
          "name": "stdout",
          "text": [
            "Collecting geopandas\n",
            "  Downloading geopandas-0.9.0-py2.py3-none-any.whl (994 kB)\n",
            "\u001b[K     |████████████████████████████████| 994 kB 6.6 MB/s \n",
            "\u001b[?25hRequirement already satisfied: shapely>=1.6 in /usr/local/lib/python3.7/dist-packages (from geopandas) (1.7.1)\n",
            "Collecting pyproj>=2.2.0\n",
            "  Downloading pyproj-3.2.1-cp37-cp37m-manylinux2010_x86_64.whl (6.3 MB)\n",
            "\u001b[K     |████████████████████████████████| 6.3 MB 58.6 MB/s \n",
            "\u001b[?25hCollecting fiona>=1.8\n",
            "  Downloading Fiona-1.8.20-cp37-cp37m-manylinux1_x86_64.whl (15.4 MB)\n",
            "\u001b[K     |████████████████████████████████| 15.4 MB 39 kB/s \n",
            "\u001b[?25hRequirement already satisfied: pandas>=0.24.0 in /usr/local/lib/python3.7/dist-packages (from geopandas) (1.1.5)\n",
            "Requirement already satisfied: certifi in /usr/local/lib/python3.7/dist-packages (from fiona>=1.8->geopandas) (2021.5.30)\n",
            "Collecting click-plugins>=1.0\n",
            "  Downloading click_plugins-1.1.1-py2.py3-none-any.whl (7.5 kB)\n",
            "Collecting cligj>=0.5\n",
            "  Downloading cligj-0.7.2-py3-none-any.whl (7.1 kB)\n",
            "Requirement already satisfied: click>=4.0 in /usr/local/lib/python3.7/dist-packages (from fiona>=1.8->geopandas) (7.1.2)\n",
            "Requirement already satisfied: setuptools in /usr/local/lib/python3.7/dist-packages (from fiona>=1.8->geopandas) (57.4.0)\n",
            "Collecting munch\n",
            "  Downloading munch-2.5.0-py2.py3-none-any.whl (10 kB)\n",
            "Requirement already satisfied: attrs>=17 in /usr/local/lib/python3.7/dist-packages (from fiona>=1.8->geopandas) (21.2.0)\n",
            "Requirement already satisfied: six>=1.7 in /usr/local/lib/python3.7/dist-packages (from fiona>=1.8->geopandas) (1.15.0)\n",
            "Requirement already satisfied: python-dateutil>=2.7.3 in /usr/local/lib/python3.7/dist-packages (from pandas>=0.24.0->geopandas) (2.8.2)\n",
            "Requirement already satisfied: numpy>=1.15.4 in /usr/local/lib/python3.7/dist-packages (from pandas>=0.24.0->geopandas) (1.19.5)\n",
            "Requirement already satisfied: pytz>=2017.2 in /usr/local/lib/python3.7/dist-packages (from pandas>=0.24.0->geopandas) (2018.9)\n",
            "Installing collected packages: munch, cligj, click-plugins, pyproj, fiona, geopandas\n",
            "Successfully installed click-plugins-1.1.1 cligj-0.7.2 fiona-1.8.20 geopandas-0.9.0 munch-2.5.0 pyproj-3.2.1\n"
          ]
        }
      ]
    },
    {
      "cell_type": "markdown",
      "metadata": {
        "id": "ShDTpwOlv3IE"
      },
      "source": [
        "# Git clone"
      ]
    },
    {
      "cell_type": "code",
      "metadata": {
        "colab": {
          "base_uri": "https://localhost:8080/"
        },
        "id": "Nv0sicurperH",
        "outputId": "dc250abb-0621-43b0-ea2c-7dbe88dfb90d"
      },
      "source": [
        "!git clone https://github.com/CityScope/CSL_HCMC"
      ],
      "execution_count": 2,
      "outputs": [
        {
          "output_type": "stream",
          "name": "stdout",
          "text": [
            "Cloning into 'CSL_HCMC'...\n",
            "remote: Enumerating objects: 1930, done.\u001b[K\n",
            "remote: Counting objects: 100% (590/590), done.\u001b[K\n",
            "remote: Compressing objects: 100% (314/314), done.\u001b[K\n",
            "remote: Total 1930 (delta 309), reused 500 (delta 270), pack-reused 1340\u001b[K\n",
            "Receiving objects: 100% (1930/1930), 178.53 MiB | 24.87 MiB/s, done.\n",
            "Resolving deltas: 100% (986/986), done.\n",
            "Checking out files: 100% (542/542), done.\n"
          ]
        }
      ]
    },
    {
      "cell_type": "markdown",
      "metadata": {
        "id": "YOsxmeVAw56T"
      },
      "source": [
        "# Đọc file"
      ]
    },
    {
      "cell_type": "code",
      "metadata": {
        "id": "jLcJL8v5pp5V"
      },
      "source": [
        "import geopandas as gpd\n",
        "population_df = gpd.read_file('/content/CSL_HCMC/Data/GIS/Population/population_HCMC/population_shapefile/Population_Ward_Level.shp')"
      ],
      "execution_count": 3,
      "outputs": []
    },
    {
      "cell_type": "markdown",
      "metadata": {
        "id": "Pdw_A0mGw91y"
      },
      "source": [
        "# Khám phá dữ liệu"
      ]
    },
    {
      "cell_type": "code",
      "metadata": {
        "colab": {
          "base_uri": "https://localhost:8080/",
          "height": 434
        },
        "id": "Bamrtk0jqXSf",
        "outputId": "8e125d03-19ed-40b7-e4bc-55c67d0951e2"
      },
      "source": [
        "print(type(population_df))\n",
        "population_df"
      ],
      "execution_count": 14,
      "outputs": [
        {
          "output_type": "stream",
          "name": "stdout",
          "text": [
            "<class 'geopandas.geodataframe.GeoDataFrame'>\n"
          ]
        },
        {
          "output_type": "execute_result",
          "data": {
            "text/html": [
              "<div>\n",
              "<style scoped>\n",
              "    .dataframe tbody tr th:only-of-type {\n",
              "        vertical-align: middle;\n",
              "    }\n",
              "\n",
              "    .dataframe tbody tr th {\n",
              "        vertical-align: top;\n",
              "    }\n",
              "\n",
              "    .dataframe thead th {\n",
              "        text-align: right;\n",
              "    }\n",
              "</style>\n",
              "<table border=\"1\" class=\"dataframe\">\n",
              "  <thead>\n",
              "    <tr style=\"text-align: right;\">\n",
              "      <th></th>\n",
              "      <th>Com_Name</th>\n",
              "      <th>Dist_Name</th>\n",
              "      <th>Com_ID</th>\n",
              "      <th>Dist_ID</th>\n",
              "      <th>Level</th>\n",
              "      <th>Pop_2009</th>\n",
              "      <th>Pop_2019</th>\n",
              "      <th>Den_2009</th>\n",
              "      <th>Den_2019</th>\n",
              "      <th>Shape_Leng</th>\n",
              "      <th>Shape_Area</th>\n",
              "      <th>geometry</th>\n",
              "    </tr>\n",
              "  </thead>\n",
              "  <tbody>\n",
              "    <tr>\n",
              "      <th>0</th>\n",
              "      <td>Tan Dinh</td>\n",
              "      <td>District 1</td>\n",
              "      <td>26734</td>\n",
              "      <td>760</td>\n",
              "      <td>Ward</td>\n",
              "      <td>26571.0</td>\n",
              "      <td>23258.0</td>\n",
              "      <td>41942.70</td>\n",
              "      <td>36713.10</td>\n",
              "      <td>3679.098196</td>\n",
              "      <td>6.334981e+05</td>\n",
              "      <td>POLYGON ((684350.511 1193546.266, 684363.810 1...</td>\n",
              "    </tr>\n",
              "    <tr>\n",
              "      <th>1</th>\n",
              "      <td>Ben Nghe</td>\n",
              "      <td>District 1</td>\n",
              "      <td>26740</td>\n",
              "      <td>760</td>\n",
              "      <td>Ward</td>\n",
              "      <td>13580.0</td>\n",
              "      <td>10633.0</td>\n",
              "      <td>5480.09</td>\n",
              "      <td>4290.86</td>\n",
              "      <td>6978.149149</td>\n",
              "      <td>2.478041e+06</td>\n",
              "      <td>POLYGON ((686564.657 1193462.473, 686588.924 1...</td>\n",
              "    </tr>\n",
              "    <tr>\n",
              "      <th>2</th>\n",
              "      <td>Cau Ong Lanh</td>\n",
              "      <td>District 1</td>\n",
              "      <td>26752</td>\n",
              "      <td>760</td>\n",
              "      <td>Ward</td>\n",
              "      <td>12917.0</td>\n",
              "      <td>10737.0</td>\n",
              "      <td>56878.90</td>\n",
              "      <td>47279.50</td>\n",
              "      <td>2260.705105</td>\n",
              "      <td>2.270938e+05</td>\n",
              "      <td>POLYGON ((685922.373 1190479.807, 685914.160 1...</td>\n",
              "    </tr>\n",
              "    <tr>\n",
              "      <th>3</th>\n",
              "      <td>Nguyen Thai Binh</td>\n",
              "      <td>District 1</td>\n",
              "      <td>26746</td>\n",
              "      <td>760</td>\n",
              "      <td>Ward</td>\n",
              "      <td>13197.0</td>\n",
              "      <td>9716.0</td>\n",
              "      <td>26798.80</td>\n",
              "      <td>19730.00</td>\n",
              "      <td>3320.174618</td>\n",
              "      <td>4.924426e+05</td>\n",
              "      <td>POLYGON ((685966.333 1190513.667, 685944.353 1...</td>\n",
              "    </tr>\n",
              "    <tr>\n",
              "      <th>4</th>\n",
              "      <td>Co Giang</td>\n",
              "      <td>District 1</td>\n",
              "      <td>26755</td>\n",
              "      <td>760</td>\n",
              "      <td>Ward</td>\n",
              "      <td>18967.0</td>\n",
              "      <td>11517.0</td>\n",
              "      <td>53327.60</td>\n",
              "      <td>32381.20</td>\n",
              "      <td>2525.453814</td>\n",
              "      <td>3.556650e+05</td>\n",
              "      <td>POLYGON ((685514.573 1190211.431, 685547.521 1...</td>\n",
              "    </tr>\n",
              "    <tr>\n",
              "      <th>...</th>\n",
              "      <td>...</td>\n",
              "      <td>...</td>\n",
              "      <td>...</td>\n",
              "      <td>...</td>\n",
              "      <td>...</td>\n",
              "      <td>...</td>\n",
              "      <td>...</td>\n",
              "      <td>...</td>\n",
              "      <td>...</td>\n",
              "      <td>...</td>\n",
              "      <td>...</td>\n",
              "      <td>...</td>\n",
              "    </tr>\n",
              "    <tr>\n",
              "      <th>317</th>\n",
              "      <td>Tan Hung Thuan</td>\n",
              "      <td>District 12</td>\n",
              "      <td>26787</td>\n",
              "      <td>761</td>\n",
              "      <td>Ward</td>\n",
              "      <td>28892.0</td>\n",
              "      <td>33467.0</td>\n",
              "      <td>16053.40</td>\n",
              "      <td>18595.50</td>\n",
              "      <td>6271.308704</td>\n",
              "      <td>1.799659e+06</td>\n",
              "      <td>POLYGON ((677816.513 1197206.772, 677796.932 1...</td>\n",
              "    </tr>\n",
              "    <tr>\n",
              "      <th>318</th>\n",
              "      <td>Ward 17</td>\n",
              "      <td>Go Vap</td>\n",
              "      <td>26875</td>\n",
              "      <td>764</td>\n",
              "      <td>Ward</td>\n",
              "      <td>44226.0</td>\n",
              "      <td>54728.0</td>\n",
              "      <td>38061.20</td>\n",
              "      <td>47099.30</td>\n",
              "      <td>6385.950275</td>\n",
              "      <td>1.161947e+06</td>\n",
              "      <td>POLYGON ((683516.949 1200006.226, 683509.721 1...</td>\n",
              "    </tr>\n",
              "    <tr>\n",
              "      <th>319</th>\n",
              "      <td>Ward 8</td>\n",
              "      <td>Go Vap</td>\n",
              "      <td>26898</td>\n",
              "      <td>764</td>\n",
              "      <td>Ward</td>\n",
              "      <td>26545.0</td>\n",
              "      <td>32778.0</td>\n",
              "      <td>22751.50</td>\n",
              "      <td>28093.70</td>\n",
              "      <td>5409.821020</td>\n",
              "      <td>1.166701e+06</td>\n",
              "      <td>POLYGON ((680928.492 1199066.285, 680984.889 1...</td>\n",
              "    </tr>\n",
              "    <tr>\n",
              "      <th>320</th>\n",
              "      <td>Ward 9</td>\n",
              "      <td>Go Vap</td>\n",
              "      <td>26897</td>\n",
              "      <td>764</td>\n",
              "      <td>Ward</td>\n",
              "      <td>26785.0</td>\n",
              "      <td>34596.0</td>\n",
              "      <td>31843.10</td>\n",
              "      <td>41129.20</td>\n",
              "      <td>3950.799798</td>\n",
              "      <td>8.411288e+05</td>\n",
              "      <td>POLYGON ((681120.443 1199640.183, 681120.846 1...</td>\n",
              "    </tr>\n",
              "    <tr>\n",
              "      <th>321</th>\n",
              "      <td>Ward 12</td>\n",
              "      <td>Go Vap</td>\n",
              "      <td>26881</td>\n",
              "      <td>764</td>\n",
              "      <td>Ward</td>\n",
              "      <td>50356.0</td>\n",
              "      <td>60502.0</td>\n",
              "      <td>35096.20</td>\n",
              "      <td>42167.60</td>\n",
              "      <td>4848.143508</td>\n",
              "      <td>1.434747e+06</td>\n",
              "      <td>POLYGON ((679970.916 1198480.707, 679932.874 1...</td>\n",
              "    </tr>\n",
              "  </tbody>\n",
              "</table>\n",
              "<p>322 rows × 12 columns</p>\n",
              "</div>"
            ],
            "text/plain": [
              "             Com_Name  ...                                           geometry\n",
              "0            Tan Dinh  ...  POLYGON ((684350.511 1193546.266, 684363.810 1...\n",
              "1            Ben Nghe  ...  POLYGON ((686564.657 1193462.473, 686588.924 1...\n",
              "2        Cau Ong Lanh  ...  POLYGON ((685922.373 1190479.807, 685914.160 1...\n",
              "3    Nguyen Thai Binh  ...  POLYGON ((685966.333 1190513.667, 685944.353 1...\n",
              "4            Co Giang  ...  POLYGON ((685514.573 1190211.431, 685547.521 1...\n",
              "..                ...  ...                                                ...\n",
              "317    Tan Hung Thuan  ...  POLYGON ((677816.513 1197206.772, 677796.932 1...\n",
              "318           Ward 17  ...  POLYGON ((683516.949 1200006.226, 683509.721 1...\n",
              "319            Ward 8  ...  POLYGON ((680928.492 1199066.285, 680984.889 1...\n",
              "320            Ward 9  ...  POLYGON ((681120.443 1199640.183, 681120.846 1...\n",
              "321           Ward 12  ...  POLYGON ((679970.916 1198480.707, 679932.874 1...\n",
              "\n",
              "[322 rows x 12 columns]"
            ]
          },
          "metadata": {},
          "execution_count": 14
        }
      ]
    },
    {
      "cell_type": "markdown",
      "metadata": {
        "id": "6tBAezVpuUwF"
      },
      "source": [
        "# Phường nào có diện tích lớn nhất là Lý Nhơn, huyện Cần Giờ"
      ]
    },
    {
      "cell_type": "code",
      "metadata": {
        "colab": {
          "base_uri": "https://localhost:8080/",
          "height": 80
        },
        "id": "reigzy8Irke2",
        "outputId": "575ac668-0b29-428f-bf7c-336c13365208"
      },
      "source": [
        "population_df[population_df['Shape_Area'] == population_df['Shape_Area'].max()]"
      ],
      "execution_count": 21,
      "outputs": [
        {
          "output_type": "execute_result",
          "data": {
            "text/html": [
              "<div>\n",
              "<style scoped>\n",
              "    .dataframe tbody tr th:only-of-type {\n",
              "        vertical-align: middle;\n",
              "    }\n",
              "\n",
              "    .dataframe tbody tr th {\n",
              "        vertical-align: top;\n",
              "    }\n",
              "\n",
              "    .dataframe thead th {\n",
              "        text-align: right;\n",
              "    }\n",
              "</style>\n",
              "<table border=\"1\" class=\"dataframe\">\n",
              "  <thead>\n",
              "    <tr style=\"text-align: right;\">\n",
              "      <th></th>\n",
              "      <th>Com_Name</th>\n",
              "      <th>Dist_Name</th>\n",
              "      <th>Com_ID</th>\n",
              "      <th>Dist_ID</th>\n",
              "      <th>Level</th>\n",
              "      <th>Pop_2009</th>\n",
              "      <th>Pop_2019</th>\n",
              "      <th>Den_2009</th>\n",
              "      <th>Den_2019</th>\n",
              "      <th>Shape_Leng</th>\n",
              "      <th>Shape_Area</th>\n",
              "      <th>geometry</th>\n",
              "    </tr>\n",
              "  </thead>\n",
              "  <tbody>\n",
              "    <tr>\n",
              "      <th>204</th>\n",
              "      <td>Ly Nhon</td>\n",
              "      <td>Can Gio</td>\n",
              "      <td>27682</td>\n",
              "      <td>787</td>\n",
              "      <td>Commune</td>\n",
              "      <td>5696.0</td>\n",
              "      <td>5266.0</td>\n",
              "      <td>35.3378</td>\n",
              "      <td>32.6701</td>\n",
              "      <td>68958.528608</td>\n",
              "      <td>1.611939e+08</td>\n",
              "      <td>POLYGON ((703990.602 1160907.838, 704139.338 1...</td>\n",
              "    </tr>\n",
              "  </tbody>\n",
              "</table>\n",
              "</div>"
            ],
            "text/plain": [
              "    Com_Name  ...                                           geometry\n",
              "204  Ly Nhon  ...  POLYGON ((703990.602 1160907.838, 704139.338 1...\n",
              "\n",
              "[1 rows x 12 columns]"
            ]
          },
          "metadata": {},
          "execution_count": 21
        }
      ]
    },
    {
      "cell_type": "markdown",
      "metadata": {
        "id": "0jM6Xex3ucbP"
      },
      "source": [
        "# Phường có dân số 2019 (Pop_2019) cao nhất là Vĩnh Lộc A, huyện Bình Chánh"
      ]
    },
    {
      "cell_type": "code",
      "metadata": {
        "colab": {
          "base_uri": "https://localhost:8080/",
          "height": 80
        },
        "id": "PZIdxal_tZNm",
        "outputId": "5bbe246f-df62-4060-a136-997c3578e7f6"
      },
      "source": [
        "population_df[population_df['Pop_2019'] == population_df[\"Pop_2019\"].max()]"
      ],
      "execution_count": 17,
      "outputs": [
        {
          "output_type": "execute_result",
          "data": {
            "text/html": [
              "<div>\n",
              "<style scoped>\n",
              "    .dataframe tbody tr th:only-of-type {\n",
              "        vertical-align: middle;\n",
              "    }\n",
              "\n",
              "    .dataframe tbody tr th {\n",
              "        vertical-align: top;\n",
              "    }\n",
              "\n",
              "    .dataframe thead th {\n",
              "        text-align: right;\n",
              "    }\n",
              "</style>\n",
              "<table border=\"1\" class=\"dataframe\">\n",
              "  <thead>\n",
              "    <tr style=\"text-align: right;\">\n",
              "      <th></th>\n",
              "      <th>Com_Name</th>\n",
              "      <th>Dist_Name</th>\n",
              "      <th>Com_ID</th>\n",
              "      <th>Dist_ID</th>\n",
              "      <th>Level</th>\n",
              "      <th>Pop_2009</th>\n",
              "      <th>Pop_2019</th>\n",
              "      <th>Den_2009</th>\n",
              "      <th>Den_2019</th>\n",
              "      <th>Shape_Leng</th>\n",
              "      <th>Shape_Area</th>\n",
              "      <th>geometry</th>\n",
              "    </tr>\n",
              "  </thead>\n",
              "  <tbody>\n",
              "    <tr>\n",
              "      <th>168</th>\n",
              "      <td>Vinh Loc A</td>\n",
              "      <td>Binh Chanh</td>\n",
              "      <td>27601</td>\n",
              "      <td>785</td>\n",
              "      <td>Commune</td>\n",
              "      <td>49946.0</td>\n",
              "      <td>124709.0</td>\n",
              "      <td>2530.93</td>\n",
              "      <td>6319.41</td>\n",
              "      <td>19808.888559</td>\n",
              "      <td>1.973287e+07</td>\n",
              "      <td>POLYGON ((669872.381 1199077.678, 669922.073 1...</td>\n",
              "    </tr>\n",
              "  </tbody>\n",
              "</table>\n",
              "</div>"
            ],
            "text/plain": [
              "       Com_Name  ...                                           geometry\n",
              "168  Vinh Loc A  ...  POLYGON ((669872.381 1199077.678, 669922.073 1...\n",
              "\n",
              "[1 rows x 12 columns]"
            ]
          },
          "metadata": {},
          "execution_count": 17
        }
      ]
    },
    {
      "cell_type": "markdown",
      "metadata": {
        "id": "yXPi5duNuXHv"
      },
      "source": [
        "# Phường nào có diện tích nhỏ nhất là phường 3 quận 10"
      ]
    },
    {
      "cell_type": "code",
      "metadata": {
        "colab": {
          "base_uri": "https://localhost:8080/",
          "height": 80
        },
        "id": "4MYduW6ztkcO",
        "outputId": "1a463724-d58b-4380-e605-57de54a2f2c2"
      },
      "source": [
        "population_df[population_df['Shape_Area'] == population_df['Shape_Area'].min()]"
      ],
      "execution_count": 22,
      "outputs": [
        {
          "output_type": "execute_result",
          "data": {
            "text/html": [
              "<div>\n",
              "<style scoped>\n",
              "    .dataframe tbody tr th:only-of-type {\n",
              "        vertical-align: middle;\n",
              "    }\n",
              "\n",
              "    .dataframe tbody tr th {\n",
              "        vertical-align: top;\n",
              "    }\n",
              "\n",
              "    .dataframe thead th {\n",
              "        text-align: right;\n",
              "    }\n",
              "</style>\n",
              "<table border=\"1\" class=\"dataframe\">\n",
              "  <thead>\n",
              "    <tr style=\"text-align: right;\">\n",
              "      <th></th>\n",
              "      <th>Com_Name</th>\n",
              "      <th>Dist_Name</th>\n",
              "      <th>Com_ID</th>\n",
              "      <th>Dist_ID</th>\n",
              "      <th>Level</th>\n",
              "      <th>Pop_2009</th>\n",
              "      <th>Pop_2019</th>\n",
              "      <th>Den_2009</th>\n",
              "      <th>Den_2019</th>\n",
              "      <th>Shape_Leng</th>\n",
              "      <th>Shape_Area</th>\n",
              "      <th>geometry</th>\n",
              "    </tr>\n",
              "  </thead>\n",
              "  <tbody>\n",
              "    <tr>\n",
              "      <th>71</th>\n",
              "      <td>Ward 3</td>\n",
              "      <td>District 10</td>\n",
              "      <td>27205</td>\n",
              "      <td>771</td>\n",
              "      <td>Ward</td>\n",
              "      <td>7759.0</td>\n",
              "      <td>7245.0</td>\n",
              "      <td>76334.1</td>\n",
              "      <td>71277.3</td>\n",
              "      <td>1556.320657</td>\n",
              "      <td>101642.928821</td>\n",
              "      <td>POLYGON ((682485.431 1189922.970, 682510.266 1...</td>\n",
              "    </tr>\n",
              "  </tbody>\n",
              "</table>\n",
              "</div>"
            ],
            "text/plain": [
              "   Com_Name  ...                                           geometry\n",
              "71   Ward 3  ...  POLYGON ((682485.431 1189922.970, 682510.266 1...\n",
              "\n",
              "[1 rows x 12 columns]"
            ]
          },
          "metadata": {},
          "execution_count": 22
        }
      ]
    },
    {
      "cell_type": "markdown",
      "metadata": {
        "id": "uykERxrfugJd"
      },
      "source": [
        "# Phường có dân số 2019 (Pop_2019) nhỏ nhất là phường An Khánh, quận 2"
      ]
    },
    {
      "cell_type": "code",
      "metadata": {
        "colab": {
          "base_uri": "https://localhost:8080/",
          "height": 80
        },
        "id": "0IoWag5BtsBd",
        "outputId": "bef6e682-569d-4931-b255-ba03e1689a1b"
      },
      "source": [
        "population_df[population_df['Pop_2019'] == population_df[\"Pop_2019\"].min()]"
      ],
      "execution_count": 23,
      "outputs": [
        {
          "output_type": "execute_result",
          "data": {
            "text/html": [
              "<div>\n",
              "<style scoped>\n",
              "    .dataframe tbody tr th:only-of-type {\n",
              "        vertical-align: middle;\n",
              "    }\n",
              "\n",
              "    .dataframe tbody tr th {\n",
              "        vertical-align: top;\n",
              "    }\n",
              "\n",
              "    .dataframe thead th {\n",
              "        text-align: right;\n",
              "    }\n",
              "</style>\n",
              "<table border=\"1\" class=\"dataframe\">\n",
              "  <thead>\n",
              "    <tr style=\"text-align: right;\">\n",
              "      <th></th>\n",
              "      <th>Com_Name</th>\n",
              "      <th>Dist_Name</th>\n",
              "      <th>Com_ID</th>\n",
              "      <th>Dist_ID</th>\n",
              "      <th>Level</th>\n",
              "      <th>Pop_2009</th>\n",
              "      <th>Pop_2019</th>\n",
              "      <th>Den_2009</th>\n",
              "      <th>Den_2019</th>\n",
              "      <th>Shape_Leng</th>\n",
              "      <th>Shape_Area</th>\n",
              "      <th>geometry</th>\n",
              "    </tr>\n",
              "  </thead>\n",
              "  <tbody>\n",
              "    <tr>\n",
              "      <th>218</th>\n",
              "      <td>An Khanh</td>\n",
              "      <td>District 2</td>\n",
              "      <td>27106</td>\n",
              "      <td>769</td>\n",
              "      <td>Ward</td>\n",
              "      <td>15659.0</td>\n",
              "      <td>223.0</td>\n",
              "      <td>8830.98</td>\n",
              "      <td>125.762</td>\n",
              "      <td>6715.625464</td>\n",
              "      <td>1.773186e+06</td>\n",
              "      <td>POLYGON ((688894.225 1192163.773, 688895.628 1...</td>\n",
              "    </tr>\n",
              "  </tbody>\n",
              "</table>\n",
              "</div>"
            ],
            "text/plain": [
              "     Com_Name  ...                                           geometry\n",
              "218  An Khanh  ...  POLYGON ((688894.225 1192163.773, 688895.628 1...\n",
              "\n",
              "[1 rows x 12 columns]"
            ]
          },
          "metadata": {},
          "execution_count": 23
        }
      ]
    },
    {
      "cell_type": "markdown",
      "metadata": {
        "id": "mmd792phuPDe"
      },
      "source": [
        "# Phường có tốc độ tăng trưởng dân số cao nhất là Phú Hữu quận 9"
      ]
    },
    {
      "cell_type": "code",
      "metadata": {
        "colab": {
          "base_uri": "https://localhost:8080/",
          "height": 80
        },
        "id": "_BqvpAREt921",
        "outputId": "4e6b2375-e246-408e-a651-590295d9b601"
      },
      "source": [
        "population_df[(population_df['Den_2019']/population_df['Den_2009']) == (population_df['Den_2019']/population_df['Den_2009']).max()]"
      ],
      "execution_count": 19,
      "outputs": [
        {
          "output_type": "execute_result",
          "data": {
            "text/html": [
              "<div>\n",
              "<style scoped>\n",
              "    .dataframe tbody tr th:only-of-type {\n",
              "        vertical-align: middle;\n",
              "    }\n",
              "\n",
              "    .dataframe tbody tr th {\n",
              "        vertical-align: top;\n",
              "    }\n",
              "\n",
              "    .dataframe thead th {\n",
              "        text-align: right;\n",
              "    }\n",
              "</style>\n",
              "<table border=\"1\" class=\"dataframe\">\n",
              "  <thead>\n",
              "    <tr style=\"text-align: right;\">\n",
              "      <th></th>\n",
              "      <th>Com_Name</th>\n",
              "      <th>Dist_Name</th>\n",
              "      <th>Com_ID</th>\n",
              "      <th>Dist_ID</th>\n",
              "      <th>Level</th>\n",
              "      <th>Pop_2009</th>\n",
              "      <th>Pop_2019</th>\n",
              "      <th>Den_2009</th>\n",
              "      <th>Den_2019</th>\n",
              "      <th>Shape_Leng</th>\n",
              "      <th>Shape_Area</th>\n",
              "      <th>geometry</th>\n",
              "    </tr>\n",
              "  </thead>\n",
              "  <tbody>\n",
              "    <tr>\n",
              "      <th>211</th>\n",
              "      <td>Phu Huu</td>\n",
              "      <td>District 9</td>\n",
              "      <td>26866</td>\n",
              "      <td>763</td>\n",
              "      <td>Ward</td>\n",
              "      <td>7265.0</td>\n",
              "      <td>22216.0</td>\n",
              "      <td>614.811</td>\n",
              "      <td>1880.06</td>\n",
              "      <td>18842.507391</td>\n",
              "      <td>1.181706e+07</td>\n",
              "      <td>POLYGON ((694734.189 1193824.448, 694735.625 1...</td>\n",
              "    </tr>\n",
              "  </tbody>\n",
              "</table>\n",
              "</div>"
            ],
            "text/plain": [
              "    Com_Name  ...                                           geometry\n",
              "211  Phu Huu  ...  POLYGON ((694734.189 1193824.448, 694735.625 1...\n",
              "\n",
              "[1 rows x 12 columns]"
            ]
          },
          "metadata": {},
          "execution_count": 19
        }
      ]
    },
    {
      "cell_type": "markdown",
      "metadata": {
        "id": "1ufv5hExuJU9"
      },
      "source": [
        "# Phường có tốc độ tăng trưởng dân số thấp nhất là An Khánh, quận 2"
      ]
    },
    {
      "cell_type": "code",
      "metadata": {
        "colab": {
          "base_uri": "https://localhost:8080/",
          "height": 80
        },
        "id": "WwlwD0PwuFM2",
        "outputId": "3057c032-2682-4e57-84d2-d53efabcee75"
      },
      "source": [
        "population_df[(population_df['Den_2019']/population_df['Den_2009']) == (population_df['Den_2019']/population_df['Den_2009']).min()]"
      ],
      "execution_count": 20,
      "outputs": [
        {
          "output_type": "execute_result",
          "data": {
            "text/html": [
              "<div>\n",
              "<style scoped>\n",
              "    .dataframe tbody tr th:only-of-type {\n",
              "        vertical-align: middle;\n",
              "    }\n",
              "\n",
              "    .dataframe tbody tr th {\n",
              "        vertical-align: top;\n",
              "    }\n",
              "\n",
              "    .dataframe thead th {\n",
              "        text-align: right;\n",
              "    }\n",
              "</style>\n",
              "<table border=\"1\" class=\"dataframe\">\n",
              "  <thead>\n",
              "    <tr style=\"text-align: right;\">\n",
              "      <th></th>\n",
              "      <th>Com_Name</th>\n",
              "      <th>Dist_Name</th>\n",
              "      <th>Com_ID</th>\n",
              "      <th>Dist_ID</th>\n",
              "      <th>Level</th>\n",
              "      <th>Pop_2009</th>\n",
              "      <th>Pop_2019</th>\n",
              "      <th>Den_2009</th>\n",
              "      <th>Den_2019</th>\n",
              "      <th>Shape_Leng</th>\n",
              "      <th>Shape_Area</th>\n",
              "      <th>geometry</th>\n",
              "    </tr>\n",
              "  </thead>\n",
              "  <tbody>\n",
              "    <tr>\n",
              "      <th>218</th>\n",
              "      <td>An Khanh</td>\n",
              "      <td>District 2</td>\n",
              "      <td>27106</td>\n",
              "      <td>769</td>\n",
              "      <td>Ward</td>\n",
              "      <td>15659.0</td>\n",
              "      <td>223.0</td>\n",
              "      <td>8830.98</td>\n",
              "      <td>125.762</td>\n",
              "      <td>6715.625464</td>\n",
              "      <td>1.773186e+06</td>\n",
              "      <td>POLYGON ((688894.225 1192163.773, 688895.628 1...</td>\n",
              "    </tr>\n",
              "  </tbody>\n",
              "</table>\n",
              "</div>"
            ],
            "text/plain": [
              "     Com_Name  ...                                           geometry\n",
              "218  An Khanh  ...  POLYGON ((688894.225 1192163.773, 688895.628 1...\n",
              "\n",
              "[1 rows x 12 columns]"
            ]
          },
          "metadata": {},
          "execution_count": 20
        }
      ]
    },
    {
      "cell_type": "markdown",
      "metadata": {
        "id": "69c7oOScunqv"
      },
      "source": [
        "# Phường có biến động dân số nhanh nhất Vĩnh Lộc A, huyện Bình Chánh"
      ]
    },
    {
      "cell_type": "code",
      "metadata": {
        "colab": {
          "base_uri": "https://localhost:8080/",
          "height": 80
        },
        "id": "I_QMk5CIur6W",
        "outputId": "a0d8235e-037c-43d7-c26f-7a5a2a68893f"
      },
      "source": [
        "population_df[(population_df['Pop_2019'] - population_df['Pop_2009']) == (population_df['Pop_2019'] - population_df['Pop_2009']).max()]"
      ],
      "execution_count": 25,
      "outputs": [
        {
          "output_type": "execute_result",
          "data": {
            "text/html": [
              "<div>\n",
              "<style scoped>\n",
              "    .dataframe tbody tr th:only-of-type {\n",
              "        vertical-align: middle;\n",
              "    }\n",
              "\n",
              "    .dataframe tbody tr th {\n",
              "        vertical-align: top;\n",
              "    }\n",
              "\n",
              "    .dataframe thead th {\n",
              "        text-align: right;\n",
              "    }\n",
              "</style>\n",
              "<table border=\"1\" class=\"dataframe\">\n",
              "  <thead>\n",
              "    <tr style=\"text-align: right;\">\n",
              "      <th></th>\n",
              "      <th>Com_Name</th>\n",
              "      <th>Dist_Name</th>\n",
              "      <th>Com_ID</th>\n",
              "      <th>Dist_ID</th>\n",
              "      <th>Level</th>\n",
              "      <th>Pop_2009</th>\n",
              "      <th>Pop_2019</th>\n",
              "      <th>Den_2009</th>\n",
              "      <th>Den_2019</th>\n",
              "      <th>Shape_Leng</th>\n",
              "      <th>Shape_Area</th>\n",
              "      <th>geometry</th>\n",
              "    </tr>\n",
              "  </thead>\n",
              "  <tbody>\n",
              "    <tr>\n",
              "      <th>168</th>\n",
              "      <td>Vinh Loc A</td>\n",
              "      <td>Binh Chanh</td>\n",
              "      <td>27601</td>\n",
              "      <td>785</td>\n",
              "      <td>Commune</td>\n",
              "      <td>49946.0</td>\n",
              "      <td>124709.0</td>\n",
              "      <td>2530.93</td>\n",
              "      <td>6319.41</td>\n",
              "      <td>19808.888559</td>\n",
              "      <td>1.973287e+07</td>\n",
              "      <td>POLYGON ((669872.381 1199077.678, 669922.073 1...</td>\n",
              "    </tr>\n",
              "  </tbody>\n",
              "</table>\n",
              "</div>"
            ],
            "text/plain": [
              "       Com_Name  ...                                           geometry\n",
              "168  Vinh Loc A  ...  POLYGON ((669872.381 1199077.678, 669922.073 1...\n",
              "\n",
              "[1 rows x 12 columns]"
            ]
          },
          "metadata": {},
          "execution_count": 25
        }
      ]
    },
    {
      "cell_type": "markdown",
      "metadata": {
        "id": "XFPK0mKnu1vl"
      },
      "source": [
        "# Phường có biến động dân số chậm nhất là An Khánh, quận 2"
      ]
    },
    {
      "cell_type": "code",
      "metadata": {
        "colab": {
          "base_uri": "https://localhost:8080/",
          "height": 80
        },
        "id": "WOTqnJswu5XW",
        "outputId": "be050cc8-c881-4e73-cfdb-a1311690c1eb"
      },
      "source": [
        "population_df[(population_df['Pop_2019'] - population_df['Pop_2009']) == (population_df['Pop_2019'] - population_df['Pop_2009']).min()]"
      ],
      "execution_count": 26,
      "outputs": [
        {
          "output_type": "execute_result",
          "data": {
            "text/html": [
              "<div>\n",
              "<style scoped>\n",
              "    .dataframe tbody tr th:only-of-type {\n",
              "        vertical-align: middle;\n",
              "    }\n",
              "\n",
              "    .dataframe tbody tr th {\n",
              "        vertical-align: top;\n",
              "    }\n",
              "\n",
              "    .dataframe thead th {\n",
              "        text-align: right;\n",
              "    }\n",
              "</style>\n",
              "<table border=\"1\" class=\"dataframe\">\n",
              "  <thead>\n",
              "    <tr style=\"text-align: right;\">\n",
              "      <th></th>\n",
              "      <th>Com_Name</th>\n",
              "      <th>Dist_Name</th>\n",
              "      <th>Com_ID</th>\n",
              "      <th>Dist_ID</th>\n",
              "      <th>Level</th>\n",
              "      <th>Pop_2009</th>\n",
              "      <th>Pop_2019</th>\n",
              "      <th>Den_2009</th>\n",
              "      <th>Den_2019</th>\n",
              "      <th>Shape_Leng</th>\n",
              "      <th>Shape_Area</th>\n",
              "      <th>geometry</th>\n",
              "    </tr>\n",
              "  </thead>\n",
              "  <tbody>\n",
              "    <tr>\n",
              "      <th>218</th>\n",
              "      <td>An Khanh</td>\n",
              "      <td>District 2</td>\n",
              "      <td>27106</td>\n",
              "      <td>769</td>\n",
              "      <td>Ward</td>\n",
              "      <td>15659.0</td>\n",
              "      <td>223.0</td>\n",
              "      <td>8830.98</td>\n",
              "      <td>125.762</td>\n",
              "      <td>6715.625464</td>\n",
              "      <td>1.773186e+06</td>\n",
              "      <td>POLYGON ((688894.225 1192163.773, 688895.628 1...</td>\n",
              "    </tr>\n",
              "  </tbody>\n",
              "</table>\n",
              "</div>"
            ],
            "text/plain": [
              "     Com_Name  ...                                           geometry\n",
              "218  An Khanh  ...  POLYGON ((688894.225 1192163.773, 688895.628 1...\n",
              "\n",
              "[1 rows x 12 columns]"
            ]
          },
          "metadata": {},
          "execution_count": 26
        }
      ]
    },
    {
      "cell_type": "markdown",
      "metadata": {
        "id": "tRGx7miYvgPl"
      },
      "source": [
        "# Phường có mật độ dân số cao nhất (2019) là phường 8, quận 4"
      ]
    },
    {
      "cell_type": "code",
      "metadata": {
        "colab": {
          "base_uri": "https://localhost:8080/",
          "height": 80
        },
        "id": "T0EU7Cifvilt",
        "outputId": "70e86519-7e66-44ec-b84d-cc5cf3777b87"
      },
      "source": [
        "population_df[population_df['Den_2019'] == population_df['Den_2019'].max()]"
      ],
      "execution_count": 27,
      "outputs": [
        {
          "output_type": "execute_result",
          "data": {
            "text/html": [
              "<div>\n",
              "<style scoped>\n",
              "    .dataframe tbody tr th:only-of-type {\n",
              "        vertical-align: middle;\n",
              "    }\n",
              "\n",
              "    .dataframe tbody tr th {\n",
              "        vertical-align: top;\n",
              "    }\n",
              "\n",
              "    .dataframe thead th {\n",
              "        text-align: right;\n",
              "    }\n",
              "</style>\n",
              "<table border=\"1\" class=\"dataframe\">\n",
              "  <thead>\n",
              "    <tr style=\"text-align: right;\">\n",
              "      <th></th>\n",
              "      <th>Com_Name</th>\n",
              "      <th>Dist_Name</th>\n",
              "      <th>Com_ID</th>\n",
              "      <th>Dist_ID</th>\n",
              "      <th>Level</th>\n",
              "      <th>Pop_2009</th>\n",
              "      <th>Pop_2019</th>\n",
              "      <th>Den_2009</th>\n",
              "      <th>Den_2019</th>\n",
              "      <th>Shape_Leng</th>\n",
              "      <th>Shape_Area</th>\n",
              "      <th>geometry</th>\n",
              "    </tr>\n",
              "  </thead>\n",
              "  <tbody>\n",
              "    <tr>\n",
              "      <th>16</th>\n",
              "      <td>Ward 8</td>\n",
              "      <td>District 4</td>\n",
              "      <td>27268</td>\n",
              "      <td>773</td>\n",
              "      <td>Ward</td>\n",
              "      <td>16221.0</td>\n",
              "      <td>15321.0</td>\n",
              "      <td>101839.0</td>\n",
              "      <td>96188.7</td>\n",
              "      <td>2623.543439</td>\n",
              "      <td>159274.140239</td>\n",
              "      <td>POLYGON ((686132.663 1190298.153, 686136.360 1...</td>\n",
              "    </tr>\n",
              "  </tbody>\n",
              "</table>\n",
              "</div>"
            ],
            "text/plain": [
              "   Com_Name  ...                                           geometry\n",
              "16   Ward 8  ...  POLYGON ((686132.663 1190298.153, 686136.360 1...\n",
              "\n",
              "[1 rows x 12 columns]"
            ]
          },
          "metadata": {},
          "execution_count": 27
        }
      ]
    },
    {
      "cell_type": "markdown",
      "metadata": {
        "id": "K_qqSCGNvg_u"
      },
      "source": [
        "# Phường có mật độ dân số thấp nhất (2019) là Lý Nhơn, huyện Cần Giờ"
      ]
    },
    {
      "cell_type": "code",
      "metadata": {
        "colab": {
          "base_uri": "https://localhost:8080/",
          "height": 80
        },
        "id": "Fa3vDvrEvjFK",
        "outputId": "aa25867e-850b-497f-ebf0-edd0869242ca"
      },
      "source": [
        "population_df[population_df['Den_2019'] == population_df['Den_2019'].min()]"
      ],
      "execution_count": 28,
      "outputs": [
        {
          "output_type": "execute_result",
          "data": {
            "text/html": [
              "<div>\n",
              "<style scoped>\n",
              "    .dataframe tbody tr th:only-of-type {\n",
              "        vertical-align: middle;\n",
              "    }\n",
              "\n",
              "    .dataframe tbody tr th {\n",
              "        vertical-align: top;\n",
              "    }\n",
              "\n",
              "    .dataframe thead th {\n",
              "        text-align: right;\n",
              "    }\n",
              "</style>\n",
              "<table border=\"1\" class=\"dataframe\">\n",
              "  <thead>\n",
              "    <tr style=\"text-align: right;\">\n",
              "      <th></th>\n",
              "      <th>Com_Name</th>\n",
              "      <th>Dist_Name</th>\n",
              "      <th>Com_ID</th>\n",
              "      <th>Dist_ID</th>\n",
              "      <th>Level</th>\n",
              "      <th>Pop_2009</th>\n",
              "      <th>Pop_2019</th>\n",
              "      <th>Den_2009</th>\n",
              "      <th>Den_2019</th>\n",
              "      <th>Shape_Leng</th>\n",
              "      <th>Shape_Area</th>\n",
              "      <th>geometry</th>\n",
              "    </tr>\n",
              "  </thead>\n",
              "  <tbody>\n",
              "    <tr>\n",
              "      <th>204</th>\n",
              "      <td>Ly Nhon</td>\n",
              "      <td>Can Gio</td>\n",
              "      <td>27682</td>\n",
              "      <td>787</td>\n",
              "      <td>Commune</td>\n",
              "      <td>5696.0</td>\n",
              "      <td>5266.0</td>\n",
              "      <td>35.3378</td>\n",
              "      <td>32.6701</td>\n",
              "      <td>68958.528608</td>\n",
              "      <td>1.611939e+08</td>\n",
              "      <td>POLYGON ((703990.602 1160907.838, 704139.338 1...</td>\n",
              "    </tr>\n",
              "  </tbody>\n",
              "</table>\n",
              "</div>"
            ],
            "text/plain": [
              "    Com_Name  ...                                           geometry\n",
              "204  Ly Nhon  ...  POLYGON ((703990.602 1160907.838, 704139.338 1...\n",
              "\n",
              "[1 rows x 12 columns]"
            ]
          },
          "metadata": {},
          "execution_count": 28
        }
      ]
    }
  ]
}