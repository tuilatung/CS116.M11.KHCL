{
  "nbformat": 4,
  "nbformat_minor": 0,
  "metadata": {
    "colab": {
      "name": "19522492_BT11.ipynb",
      "provenance": [],
      "collapsed_sections": []
    },
    "kernelspec": {
      "name": "python3",
      "display_name": "Python 3"
    },
    "language_info": {
      "name": "python"
    }
  },
  "cells": [
    {
      "cell_type": "markdown",
      "metadata": {
        "id": "IL-4dRnwoj5E"
      },
      "source": [
        "\n",
        "\n",
        "*   Họ Tên: Huỳnh Thiện Tùng\n",
        "*   MSSV: 19522492\n",
        "*   Bài tập 11\n",
        "\n",
        "\n"
      ]
    },
    {
      "cell_type": "markdown",
      "metadata": {
        "id": "E5epWya_pL84"
      },
      "source": [
        "# Các hypermeter trong SVM: kernel, C, gamma"
      ]
    },
    {
      "cell_type": "markdown",
      "metadata": {
        "id": "gfjYkHOwW2ST"
      },
      "source": [
        "# Import thư viện"
      ]
    },
    {
      "cell_type": "code",
      "metadata": {
        "id": "6oniunDgL-XQ"
      },
      "source": [
        "import csv\n",
        "import pandas as pd\n",
        "import numpy as np\n",
        "from sklearn.preprocessing import StandardScaler\n",
        "from sklearn.model_selection import train_test_split\n",
        "from sklearn.decomposition import PCA\n",
        "from sklearn.model_selection import cross_val_score\n",
        "from sklearn.model_selection import KFold\n",
        "from sklearn.metrics import classification_report, confusion_matrix\n",
        "from sklearn.datasets import load_breast_cancer\n",
        "from sklearn import svm"
      ],
      "execution_count": 28,
      "outputs": []
    },
    {
      "cell_type": "code",
      "metadata": {
        "colab": {
          "base_uri": "https://localhost:8080/"
        },
        "id": "XHPAeOVYjwI9",
        "outputId": "ab81407a-3339-4a10-df77-2e1ee59e20b1"
      },
      "source": [
        "!gdown --id 103fJaCeNyzsfEojFBskoBrZy3Jman1bB"
      ],
      "execution_count": 29,
      "outputs": [
        {
          "output_type": "stream",
          "name": "stdout",
          "text": [
            "Downloading...\n",
            "From: https://drive.google.com/uc?id=103fJaCeNyzsfEojFBskoBrZy3Jman1bB\n",
            "To: /content/Social_Network_Ads.csv\n",
            "\r  0% 0.00/4.91k [00:00<?, ?B/s]\r100% 4.91k/4.91k [00:00<00:00, 3.50MB/s]\n"
          ]
        }
      ]
    },
    {
      "cell_type": "markdown",
      "metadata": {
        "id": "TAD-tS_jW8KF"
      },
      "source": [
        "# Đọc và khám phá dữ liệu"
      ]
    },
    {
      "cell_type": "code",
      "metadata": {
        "colab": {
          "base_uri": "https://localhost:8080/",
          "height": 357
        },
        "id": "kSacYwpHNCe9",
        "outputId": "a2d99858-f811-46a1-ea3c-139a0973ed80"
      },
      "source": [
        "df = pd.read_csv('Social_Network_Ads.csv')\n",
        "df.head(10)"
      ],
      "execution_count": 30,
      "outputs": [
        {
          "output_type": "execute_result",
          "data": {
            "text/html": [
              "<div>\n",
              "<style scoped>\n",
              "    .dataframe tbody tr th:only-of-type {\n",
              "        vertical-align: middle;\n",
              "    }\n",
              "\n",
              "    .dataframe tbody tr th {\n",
              "        vertical-align: top;\n",
              "    }\n",
              "\n",
              "    .dataframe thead th {\n",
              "        text-align: right;\n",
              "    }\n",
              "</style>\n",
              "<table border=\"1\" class=\"dataframe\">\n",
              "  <thead>\n",
              "    <tr style=\"text-align: right;\">\n",
              "      <th></th>\n",
              "      <th>Age</th>\n",
              "      <th>EstimatedSalary</th>\n",
              "      <th>Purchased</th>\n",
              "    </tr>\n",
              "  </thead>\n",
              "  <tbody>\n",
              "    <tr>\n",
              "      <th>0</th>\n",
              "      <td>19</td>\n",
              "      <td>19000</td>\n",
              "      <td>0</td>\n",
              "    </tr>\n",
              "    <tr>\n",
              "      <th>1</th>\n",
              "      <td>35</td>\n",
              "      <td>20000</td>\n",
              "      <td>0</td>\n",
              "    </tr>\n",
              "    <tr>\n",
              "      <th>2</th>\n",
              "      <td>26</td>\n",
              "      <td>43000</td>\n",
              "      <td>0</td>\n",
              "    </tr>\n",
              "    <tr>\n",
              "      <th>3</th>\n",
              "      <td>27</td>\n",
              "      <td>57000</td>\n",
              "      <td>0</td>\n",
              "    </tr>\n",
              "    <tr>\n",
              "      <th>4</th>\n",
              "      <td>19</td>\n",
              "      <td>76000</td>\n",
              "      <td>0</td>\n",
              "    </tr>\n",
              "    <tr>\n",
              "      <th>5</th>\n",
              "      <td>27</td>\n",
              "      <td>58000</td>\n",
              "      <td>0</td>\n",
              "    </tr>\n",
              "    <tr>\n",
              "      <th>6</th>\n",
              "      <td>27</td>\n",
              "      <td>84000</td>\n",
              "      <td>0</td>\n",
              "    </tr>\n",
              "    <tr>\n",
              "      <th>7</th>\n",
              "      <td>32</td>\n",
              "      <td>150000</td>\n",
              "      <td>1</td>\n",
              "    </tr>\n",
              "    <tr>\n",
              "      <th>8</th>\n",
              "      <td>25</td>\n",
              "      <td>33000</td>\n",
              "      <td>0</td>\n",
              "    </tr>\n",
              "    <tr>\n",
              "      <th>9</th>\n",
              "      <td>35</td>\n",
              "      <td>65000</td>\n",
              "      <td>0</td>\n",
              "    </tr>\n",
              "  </tbody>\n",
              "</table>\n",
              "</div>"
            ],
            "text/plain": [
              "   Age  EstimatedSalary  Purchased\n",
              "0   19            19000          0\n",
              "1   35            20000          0\n",
              "2   26            43000          0\n",
              "3   27            57000          0\n",
              "4   19            76000          0\n",
              "5   27            58000          0\n",
              "6   27            84000          0\n",
              "7   32           150000          1\n",
              "8   25            33000          0\n",
              "9   35            65000          0"
            ]
          },
          "metadata": {},
          "execution_count": 30
        }
      ]
    },
    {
      "cell_type": "code",
      "metadata": {
        "id": "6kYS9m6NONa9"
      },
      "source": [
        "dataX = df.loc[:, [\"Age\", \"EstimatedSalary\"]].values\n",
        "dataY = df.loc[:, \"Purchased\"].values"
      ],
      "execution_count": 31,
      "outputs": []
    },
    {
      "cell_type": "code",
      "metadata": {
        "colab": {
          "base_uri": "https://localhost:8080/"
        },
        "id": "LhWfAx8Skeyt",
        "outputId": "efb4b7e5-7339-4a3b-e873-9496b7bc2281"
      },
      "source": [
        "print(dataX.shape)\n",
        "print(dataY.shape)"
      ],
      "execution_count": 32,
      "outputs": [
        {
          "output_type": "stream",
          "name": "stdout",
          "text": [
            "(400, 2)\n",
            "(400,)\n"
          ]
        }
      ]
    },
    {
      "cell_type": "markdown",
      "metadata": {
        "id": "GQ2fr7Ws1sC4"
      },
      "source": [
        "# Train/valid/test spliting"
      ]
    },
    {
      "cell_type": "code",
      "metadata": {
        "id": "mDp6P-w9jPmA",
        "colab": {
          "base_uri": "https://localhost:8080/"
        },
        "outputId": "8349db3e-cc31-4288-eb58-d120fc17960b"
      },
      "source": [
        "train_ratio = 0.6\n",
        "validation_ratio = 0.2\n",
        "test_ratio = 0.2\n",
        "\n",
        "# train is now 60% of the entire data set\n",
        "# the _junk suffix means that we drop that variable completely\n",
        "x_train, x_test, y_train, y_test = train_test_split(dataX, dataY, test_size=1 - train_ratio)\n",
        "\n",
        "# test is now 20% of the initial data set\n",
        "# validation is now 20% of the initial data set\n",
        "x_val, x_test, y_val, y_test = train_test_split(x_test, y_test, test_size=test_ratio/(test_ratio + validation_ratio)) \n",
        "\n",
        "print(x_train, x_val, x_test)"
      ],
      "execution_count": 33,
      "outputs": [
        {
          "output_type": "stream",
          "name": "stdout",
          "text": [
            "[[    24  23000]\n",
            " [    36  33000]\n",
            " [    27  58000]\n",
            " [    26  15000]\n",
            " [    19  76000]\n",
            " [    40  57000]\n",
            " [    37  71000]\n",
            " [    34 112000]\n",
            " [    47  25000]\n",
            " [    26  30000]\n",
            " [    60 108000]\n",
            " [    29  47000]\n",
            " [    27  96000]\n",
            " [    45  79000]\n",
            " [    37  93000]\n",
            " [    21  72000]\n",
            " [    26  35000]\n",
            " [    39  59000]\n",
            " [    36 144000]\n",
            " [    20  82000]\n",
            " [    29  61000]\n",
            " [    37  70000]\n",
            " [    38  80000]\n",
            " [    49  86000]\n",
            " [    19  26000]\n",
            " [    45  22000]\n",
            " [    57  60000]\n",
            " [    46  28000]\n",
            " [    35  72000]\n",
            " [    48  33000]\n",
            " [    19  70000]\n",
            " [    29  43000]\n",
            " [    28  87000]\n",
            " [    48  74000]\n",
            " [    38  50000]\n",
            " [    36 118000]\n",
            " [    42  65000]\n",
            " [    25  33000]\n",
            " [    27  17000]\n",
            " [    26  15000]\n",
            " [    60  34000]\n",
            " [    50  44000]\n",
            " [    47 107000]\n",
            " [    34  43000]\n",
            " [    28  37000]\n",
            " [    41  51000]\n",
            " [    33 149000]\n",
            " [    41  72000]\n",
            " [    47  47000]\n",
            " [    28  84000]\n",
            " [    48 134000]\n",
            " [    19  25000]\n",
            " [    57  33000]\n",
            " [    35  59000]\n",
            " [    30 107000]\n",
            " [    31  74000]\n",
            " [    33  60000]\n",
            " [    40  47000]\n",
            " [    42  90000]\n",
            " [    32 100000]\n",
            " [    35  39000]\n",
            " [    60  46000]\n",
            " [    27  84000]\n",
            " [    46  88000]\n",
            " [    39 134000]\n",
            " [    53 104000]\n",
            " [    43 129000]\n",
            " [    33  51000]\n",
            " [    30 116000]\n",
            " [    27  90000]\n",
            " [    53  72000]\n",
            " [    41  45000]\n",
            " [    48  96000]\n",
            " [    46  82000]\n",
            " [    51 134000]\n",
            " [    48  33000]\n",
            " [    19  85000]\n",
            " [    26  72000]\n",
            " [    20  82000]\n",
            " [    35  50000]\n",
            " [    37  77000]\n",
            " [    36  60000]\n",
            " [    49  28000]\n",
            " [    35  72000]\n",
            " [    41  52000]\n",
            " [    22  55000]\n",
            " [    49  89000]\n",
            " [    43 112000]\n",
            " [    42  80000]\n",
            " [    31  71000]\n",
            " [    24  55000]\n",
            " [    51 146000]\n",
            " [    41  72000]\n",
            " [    37  79000]\n",
            " [    41  87000]\n",
            " [    42  65000]\n",
            " [    38  55000]\n",
            " [    32 120000]\n",
            " [    39  79000]\n",
            " [    31  58000]\n",
            " [    31  89000]\n",
            " [    53  34000]\n",
            " [    35  73000]\n",
            " [    40  61000]\n",
            " [    35  97000]\n",
            " [    41  59000]\n",
            " [    23  66000]\n",
            " [    37  53000]\n",
            " [    35  57000]\n",
            " [    26  17000]\n",
            " [    33  41000]\n",
            " [    42  54000]\n",
            " [    35  71000]\n",
            " [    49 141000]\n",
            " [    35  27000]\n",
            " [    54 104000]\n",
            " [    44 139000]\n",
            " [    22  81000]\n",
            " [    56 104000]\n",
            " [    36  54000]\n",
            " [    26  52000]\n",
            " [    41  80000]\n",
            " [    58  47000]\n",
            " [    42  79000]\n",
            " [    58  95000]\n",
            " [    35  23000]\n",
            " [    48  90000]\n",
            " [    42 108000]\n",
            " [    45  45000]\n",
            " [    35  53000]\n",
            " [    42  70000]\n",
            " [    32  18000]\n",
            " [    28  32000]\n",
            " [    36  75000]\n",
            " [    30  15000]\n",
            " [    52  38000]\n",
            " [    25  90000]\n",
            " [    28  79000]\n",
            " [    47  20000]\n",
            " [    35  20000]\n",
            " [    58 101000]\n",
            " [    59  29000]\n",
            " [    37  78000]\n",
            " [    56  60000]\n",
            " [    26  43000]\n",
            " [    35  38000]\n",
            " [    36  99000]\n",
            " [    54 108000]\n",
            " [    47 144000]\n",
            " [    42  64000]\n",
            " [    47  34000]\n",
            " [    40  59000]\n",
            " [    35  88000]\n",
            " [    30  89000]\n",
            " [    20  86000]\n",
            " [    39  42000]\n",
            " [    41  52000]\n",
            " [    47  30000]\n",
            " [    32  86000]\n",
            " [    23  82000]\n",
            " [    31  15000]\n",
            " [    33 113000]\n",
            " [    27  31000]\n",
            " [    39  73000]\n",
            " [    21  88000]\n",
            " [    35  61000]\n",
            " [    35  50000]\n",
            " [    25  22000]\n",
            " [    27  20000]\n",
            " [    21  16000]\n",
            " [    30  62000]\n",
            " [    38  71000]\n",
            " [    37  72000]\n",
            " [    41  79000]\n",
            " [    47  51000]\n",
            " [    59  83000]\n",
            " [    46  74000]\n",
            " [    47 105000]\n",
            " [    59  76000]\n",
            " [    35  44000]\n",
            " [    39 134000]\n",
            " [    37  62000]\n",
            " [    42  75000]\n",
            " [    41  60000]\n",
            " [    23  48000]\n",
            " [    34  72000]\n",
            " [    29  83000]\n",
            " [    35 147000]\n",
            " [    36  52000]\n",
            " [    60  83000]\n",
            " [    38  71000]\n",
            " [    31  76000]\n",
            " [    58  38000]\n",
            " [    29  43000]\n",
            " [    48  30000]\n",
            " [    47 113000]\n",
            " [    59  42000]\n",
            " [    42  73000]\n",
            " [    47  50000]\n",
            " [    52 150000]\n",
            " [    42  53000]\n",
            " [    32 117000]\n",
            " [    41  72000]\n",
            " [    52 114000]\n",
            " [    20  23000]\n",
            " [    33  69000]\n",
            " [    55 130000]\n",
            " [    20  36000]\n",
            " [    23  20000]\n",
            " [    23  63000]\n",
            " [    38 112000]\n",
            " [    26  16000]\n",
            " [    46  41000]\n",
            " [    50  36000]\n",
            " [    45 131000]\n",
            " [    40  78000]\n",
            " [    40  72000]\n",
            " [    58  23000]\n",
            " [    22  18000]\n",
            " [    46  79000]\n",
            " [    49  39000]\n",
            " [    60 102000]\n",
            " [    48  29000]\n",
            " [    33  28000]\n",
            " [    57  74000]\n",
            " [    31  66000]\n",
            " [    58 144000]\n",
            " [    26  80000]\n",
            " [    37 146000]\n",
            " [    35 108000]\n",
            " [    31  68000]\n",
            " [    26  32000]\n",
            " [    29  80000]\n",
            " [    19  19000]\n",
            " [    32 150000]\n",
            " [    30  87000]\n",
            " [    46  96000]\n",
            " [    35  55000]\n",
            " [    46  22000]\n",
            " [    53  82000]] [[    38  59000]\n",
            " [    26 118000]\n",
            " [    32  18000]\n",
            " [    27  57000]\n",
            " [    37 144000]\n",
            " [    60  42000]\n",
            " [    52  21000]\n",
            " [    28  85000]\n",
            " [    27  89000]\n",
            " [    35  77000]\n",
            " [    39  71000]\n",
            " [    48 131000]\n",
            " [    35  75000]\n",
            " [    28  59000]\n",
            " [    33  43000]\n",
            " [    26  86000]\n",
            " [    33  31000]\n",
            " [    54  26000]\n",
            " [    47  43000]\n",
            " [    49  28000]\n",
            " [    27  88000]\n",
            " [    34  43000]\n",
            " [    24  55000]\n",
            " [    29  75000]\n",
            " [    32 135000]\n",
            " [    23  28000]\n",
            " [    46 117000]\n",
            " [    49  36000]\n",
            " [    59 143000]\n",
            " [    29 148000]\n",
            " [    45  26000]\n",
            " [    47  23000]\n",
            " [    46  32000]\n",
            " [    51  23000]\n",
            " [    43 133000]\n",
            " [    19  21000]\n",
            " [    50  88000]\n",
            " [    26  84000]\n",
            " [    36 126000]\n",
            " [    49  88000]\n",
            " [    35  47000]\n",
            " [    30  79000]\n",
            " [    24  89000]\n",
            " [    38  65000]\n",
            " [    37  75000]\n",
            " [    26  80000]\n",
            " [    48 141000]\n",
            " [    26  81000]\n",
            " [    28  89000]\n",
            " [    35  75000]\n",
            " [    20  74000]\n",
            " [    31  18000]\n",
            " [    39  75000]\n",
            " [    35  91000]\n",
            " [    48  41000]\n",
            " [    38  51000]\n",
            " [    24  58000]\n",
            " [    37  80000]\n",
            " [    38 113000]\n",
            " [    60  42000]\n",
            " [    55 125000]\n",
            " [    35  65000]\n",
            " [    38  50000]\n",
            " [    41  71000]\n",
            " [    38  61000]\n",
            " [    29  28000]\n",
            " [    24  27000]\n",
            " [    27 137000]\n",
            " [    18  82000]\n",
            " [    24  19000]\n",
            " [    39  71000]\n",
            " [    30  17000]\n",
            " [    59  88000]\n",
            " [    39 122000]\n",
            " [    36  63000]\n",
            " [    40  65000]\n",
            " [    30  80000]\n",
            " [    40 142000]\n",
            " [    36  50000]\n",
            " [    49  74000]] [[    40  71000]\n",
            " [    48  35000]\n",
            " [    40  57000]\n",
            " [    41  30000]\n",
            " [    25  79000]\n",
            " [    44  39000]\n",
            " [    47  49000]\n",
            " [    40  75000]\n",
            " [    31  34000]\n",
            " [    37  57000]\n",
            " [    42 104000]\n",
            " [    37  52000]\n",
            " [    30  49000]\n",
            " [    36 125000]\n",
            " [    28  55000]\n",
            " [    22  27000]\n",
            " [    22  63000]\n",
            " [    18  44000]\n",
            " [    46  59000]\n",
            " [    50  20000]\n",
            " [    55  39000]\n",
            " [    41  63000]\n",
            " [    52  90000]\n",
            " [    39 106000]\n",
            " [    28  59000]\n",
            " [    37  33000]\n",
            " [    42 149000]\n",
            " [    25  80000]\n",
            " [    31 118000]\n",
            " [    40  75000]\n",
            " [    20  49000]\n",
            " [    18  52000]\n",
            " [    30 135000]\n",
            " [    39  96000]\n",
            " [    37  74000]\n",
            " [    32 117000]\n",
            " [    25  87000]\n",
            " [    18  86000]\n",
            " [    21  68000]\n",
            " [    35  60000]\n",
            " [    35  22000]\n",
            " [    27  54000]\n",
            " [    37  80000]\n",
            " [    41  72000]\n",
            " [    53 143000]\n",
            " [    59 130000]\n",
            " [    39  42000]\n",
            " [    24  84000]\n",
            " [    35  79000]\n",
            " [    40  57000]\n",
            " [    28  44000]\n",
            " [    48 138000]\n",
            " [    57  26000]\n",
            " [    24  32000]\n",
            " [    42  54000]\n",
            " [    39  77000]\n",
            " [    27  58000]\n",
            " [    46  23000]\n",
            " [    42  80000]\n",
            " [    37  55000]\n",
            " [    28 123000]\n",
            " [    35  25000]\n",
            " [    29  83000]\n",
            " [    38  61000]\n",
            " [    34 115000]\n",
            " [    54  70000]\n",
            " [    56 133000]\n",
            " [    52 138000]\n",
            " [    40 107000]\n",
            " [    48 119000]\n",
            " [    39  61000]\n",
            " [    37 137000]\n",
            " [    34  25000]\n",
            " [    49  65000]\n",
            " [    40  60000]\n",
            " [    45  22000]\n",
            " [    45  32000]\n",
            " [    18  68000]\n",
            " [    35  58000]\n",
            " [    57 122000]]\n"
          ]
        }
      ]
    },
    {
      "cell_type": "code",
      "metadata": {
        "colab": {
          "base_uri": "https://localhost:8080/"
        },
        "id": "DWZt-LXHkINY",
        "outputId": "c2b84169-3c51-4013-8ab5-fca3daa7ce49"
      },
      "source": [
        "print(x_train.shape)\n",
        "print(x_val.shape)\n",
        "print(x_test.shape)"
      ],
      "execution_count": 34,
      "outputs": [
        {
          "output_type": "stream",
          "name": "stdout",
          "text": [
            "(240, 2)\n",
            "(80, 2)\n",
            "(80, 2)\n"
          ]
        }
      ]
    },
    {
      "cell_type": "markdown",
      "metadata": {
        "id": "zhnuyrn81w1C"
      },
      "source": [
        "# Data Normalization"
      ]
    },
    {
      "cell_type": "code",
      "metadata": {
        "id": "d7FxnWm2fnEH"
      },
      "source": [
        "scaler = StandardScaler()\n",
        "x_train = scaler.fit_transform(x_train)"
      ],
      "execution_count": 35,
      "outputs": []
    },
    {
      "cell_type": "markdown",
      "metadata": {
        "id": "2oiRb0_hoFLk"
      },
      "source": [
        "# Support Vector Machine Model\n",
        "Normal mode"
      ]
    },
    {
      "cell_type": "code",
      "metadata": {
        "colab": {
          "base_uri": "https://localhost:8080/"
        },
        "id": "Iq0YYcQ9moqw",
        "outputId": "3335f8ce-61e0-4502-9e1b-33c6b3f60bc7"
      },
      "source": [
        "# train the model on train set\n",
        "model = svm.SVC()\n",
        "model.fit(x_train, y_train)\n",
        " \n",
        "# print prediction results\n",
        "predictions = model.predict(x_val)\n",
        "print(classification_report(y_val, predictions))"
      ],
      "execution_count": 36,
      "outputs": [
        {
          "output_type": "stream",
          "name": "stdout",
          "text": [
            "              precision    recall  f1-score   support\n",
            "\n",
            "           0       0.00      0.00      0.00        52\n",
            "           1       0.35      1.00      0.52        28\n",
            "\n",
            "    accuracy                           0.35        80\n",
            "   macro avg       0.17      0.50      0.26        80\n",
            "weighted avg       0.12      0.35      0.18        80\n",
            "\n"
          ]
        },
        {
          "output_type": "stream",
          "name": "stderr",
          "text": [
            "/usr/local/lib/python3.7/dist-packages/sklearn/metrics/_classification.py:1308: UndefinedMetricWarning: Precision and F-score are ill-defined and being set to 0.0 in labels with no predicted samples. Use `zero_division` parameter to control this behavior.\n",
            "  _warn_prf(average, modifier, msg_start, len(result))\n",
            "/usr/local/lib/python3.7/dist-packages/sklearn/metrics/_classification.py:1308: UndefinedMetricWarning: Precision and F-score are ill-defined and being set to 0.0 in labels with no predicted samples. Use `zero_division` parameter to control this behavior.\n",
            "  _warn_prf(average, modifier, msg_start, len(result))\n",
            "/usr/local/lib/python3.7/dist-packages/sklearn/metrics/_classification.py:1308: UndefinedMetricWarning: Precision and F-score are ill-defined and being set to 0.0 in labels with no predicted samples. Use `zero_division` parameter to control this behavior.\n",
            "  _warn_prf(average, modifier, msg_start, len(result))\n"
          ]
        }
      ]
    },
    {
      "cell_type": "markdown",
      "metadata": {
        "id": "nxPYqxnW1aDQ"
      },
      "source": [
        "# Find best hyperparameters"
      ]
    },
    {
      "cell_type": "code",
      "metadata": {
        "colab": {
          "base_uri": "https://localhost:8080/"
        },
        "id": "jAl3lfOjp45Q",
        "outputId": "c6397eb2-1efd-40b9-b042-9f165617595b"
      },
      "source": [
        "C_star = -1\n",
        "gamma_star = -1\n",
        "kernel_star = ''\n",
        "score = -1\n",
        "for i in range(-3, 11): # for C\n",
        "    for j in range(10): # for gamma\n",
        "        for _kernel in ['linear', 'poly', 'rbf', 'sigmoid']: # for kernal\n",
        "            _C = 2 ** i\n",
        "            _gamma = 2 ** (-j)\n",
        "            model = svm.SVC(C=_C, kernel=_kernel, gamma=_gamma)\n",
        "            model.fit(x_train, y_train)\n",
        "            new_score = model.score(x_val, y_val)\n",
        "            \n",
        "            if new_score > score:\n",
        "                print('C = {}; gamma = {}; kernel = {}; score = {}; new_score = {}'.format(_C, _gamma, _kernel, score, new_score))\n",
        "                C_star = _C\n",
        "                gamma_star = _gamma\n",
        "                kernal_star = _kernel\n",
        "                score = new_score"
      ],
      "execution_count": 37,
      "outputs": [
        {
          "output_type": "stream",
          "name": "stdout",
          "text": [
            "C = 0.125; gamma = 1; kernel = linear; score = -1; new_score = 0.35\n",
            "C = 0.125; gamma = 1; kernel = sigmoid; score = 0.35; new_score = 0.65\n"
          ]
        }
      ]
    },
    {
      "cell_type": "markdown",
      "metadata": {
        "id": "XtvzY94x8PQZ"
      },
      "source": [
        "# Best hyperparameters"
      ]
    },
    {
      "cell_type": "code",
      "metadata": {
        "colab": {
          "base_uri": "https://localhost:8080/"
        },
        "id": "VZz4Jw1lr20I",
        "outputId": "1bf5f5ff-713b-4e83-e776-4ba83719dd0b"
      },
      "source": [
        "print('C = {}'.format(C_star))\n",
        "print('gamma = {}'.format(gamma_star))\n",
        "print('kernel = {}'.format(kernal_star))\n",
        "print('Accuracy = {}'.format(score))"
      ],
      "execution_count": 38,
      "outputs": [
        {
          "output_type": "stream",
          "name": "stdout",
          "text": [
            "C = 0.125\n",
            "gamma = 1\n",
            "kernel = sigmoid\n",
            "Accuracy = 0.65\n"
          ]
        }
      ]
    },
    {
      "cell_type": "markdown",
      "metadata": {
        "id": "-R7lvKHE1eco"
      },
      "source": [
        "# Evaluate test set using best hyperparameters"
      ]
    },
    {
      "cell_type": "code",
      "metadata": {
        "colab": {
          "base_uri": "https://localhost:8080/"
        },
        "id": "YrL4z2AKnFR5",
        "outputId": "eeb349e6-e254-46fb-b87d-86aaddb38354"
      },
      "source": [
        "model = svm.SVC(C=C_star, kernel=kernal_star, gamma=gamma_star)\n",
        "model.fit(x_train, y_train)\n",
        "acc = model.score(x_test, y_test)\n",
        "print('Accuracy = {}'.format(acc))"
      ],
      "execution_count": 39,
      "outputs": [
        {
          "output_type": "stream",
          "name": "stdout",
          "text": [
            "Accuracy = 0.6375\n"
          ]
        }
      ]
    }
  ]
}