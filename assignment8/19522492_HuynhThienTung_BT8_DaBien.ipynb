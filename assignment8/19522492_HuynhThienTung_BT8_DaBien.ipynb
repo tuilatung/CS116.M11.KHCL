{
  "nbformat": 4,
  "nbformat_minor": 0,
  "metadata": {
    "colab": {
      "name": "19522492_BT9.ipynb",
      "provenance": [],
      "collapsed_sections": []
    },
    "kernelspec": {
      "name": "python3",
      "display_name": "Python 3"
    },
    "language_info": {
      "name": "python"
    }
  },
  "cells": [
    {
      "cell_type": "markdown",
      "metadata": {
        "id": "IL-4dRnwoj5E"
      },
      "source": [
        "\n",
        "\n",
        "*   Họ Tên: Huỳnh Thiện Tùng\n",
        "*   MSSV: 19522492\n",
        "*   Bài tập 9\n",
        "\n",
        "\n"
      ]
    },
    {
      "cell_type": "markdown",
      "metadata": {
        "id": "gfjYkHOwW2ST"
      },
      "source": [
        "# Import thư viện"
      ]
    },
    {
      "cell_type": "code",
      "metadata": {
        "id": "6oniunDgL-XQ"
      },
      "source": [
        "import pandas as pd\n",
        "import numpy as np\n",
        "from sklearn.model_selection import train_test_split\n",
        "from sklearn.linear_model import LinearRegression\n",
        "from sklearn.metrics import mean_squared_error, r2_score\n",
        "import matplotlib.pyplot as plt\n",
        "from sklearn.model_selection import cross_val_score\n",
        "from sklearn.model_selection import KFold\n",
        "from sklearn.preprocessing import OneHotEncoder\n",
        "from sklearn.compose import ColumnTransformer"
      ],
      "execution_count": 1,
      "outputs": []
    },
    {
      "cell_type": "code",
      "metadata": {
        "colab": {
          "base_uri": "https://localhost:8080/"
        },
        "id": "XHPAeOVYjwI9",
        "outputId": "d2f29444-023d-4dd0-ed75-61cbe4c50fcf"
      },
      "source": [
        "!gdown --id 1cxt5PYGe38O-cjn4MXJ5JH3V24NbVnSQ"
      ],
      "execution_count": 2,
      "outputs": [
        {
          "output_type": "stream",
          "name": "stdout",
          "text": [
            "Downloading...\n",
            "From: https://drive.google.com/uc?id=1cxt5PYGe38O-cjn4MXJ5JH3V24NbVnSQ\n",
            "To: /content/50_Startups.csv\n",
            "\r  0% 0.00/2.44k [00:00<?, ?B/s]\r100% 2.44k/2.44k [00:00<00:00, 2.10MB/s]\n"
          ]
        }
      ]
    },
    {
      "cell_type": "markdown",
      "metadata": {
        "id": "TAD-tS_jW8KF"
      },
      "source": [
        "# Đọc và khám phá dữ liệu"
      ]
    },
    {
      "cell_type": "code",
      "metadata": {
        "colab": {
          "base_uri": "https://localhost:8080/",
          "height": 357
        },
        "id": "kSacYwpHNCe9",
        "outputId": "c86943ba-7d8d-44b1-da68-c6f8bde41dea"
      },
      "source": [
        "df = pd.read_csv('50_Startups.csv')\n",
        "df.head(10)"
      ],
      "execution_count": 3,
      "outputs": [
        {
          "output_type": "execute_result",
          "data": {
            "text/html": [
              "<div>\n",
              "<style scoped>\n",
              "    .dataframe tbody tr th:only-of-type {\n",
              "        vertical-align: middle;\n",
              "    }\n",
              "\n",
              "    .dataframe tbody tr th {\n",
              "        vertical-align: top;\n",
              "    }\n",
              "\n",
              "    .dataframe thead th {\n",
              "        text-align: right;\n",
              "    }\n",
              "</style>\n",
              "<table border=\"1\" class=\"dataframe\">\n",
              "  <thead>\n",
              "    <tr style=\"text-align: right;\">\n",
              "      <th></th>\n",
              "      <th>R&amp;D Spend</th>\n",
              "      <th>Administration</th>\n",
              "      <th>Marketing Spend</th>\n",
              "      <th>State</th>\n",
              "      <th>Profit</th>\n",
              "    </tr>\n",
              "  </thead>\n",
              "  <tbody>\n",
              "    <tr>\n",
              "      <th>0</th>\n",
              "      <td>165349.20</td>\n",
              "      <td>136897.80</td>\n",
              "      <td>471784.10</td>\n",
              "      <td>New York</td>\n",
              "      <td>192261.83</td>\n",
              "    </tr>\n",
              "    <tr>\n",
              "      <th>1</th>\n",
              "      <td>162597.70</td>\n",
              "      <td>151377.59</td>\n",
              "      <td>443898.53</td>\n",
              "      <td>California</td>\n",
              "      <td>191792.06</td>\n",
              "    </tr>\n",
              "    <tr>\n",
              "      <th>2</th>\n",
              "      <td>153441.51</td>\n",
              "      <td>101145.55</td>\n",
              "      <td>407934.54</td>\n",
              "      <td>Florida</td>\n",
              "      <td>191050.39</td>\n",
              "    </tr>\n",
              "    <tr>\n",
              "      <th>3</th>\n",
              "      <td>144372.41</td>\n",
              "      <td>118671.85</td>\n",
              "      <td>383199.62</td>\n",
              "      <td>New York</td>\n",
              "      <td>182901.99</td>\n",
              "    </tr>\n",
              "    <tr>\n",
              "      <th>4</th>\n",
              "      <td>142107.34</td>\n",
              "      <td>91391.77</td>\n",
              "      <td>366168.42</td>\n",
              "      <td>Florida</td>\n",
              "      <td>166187.94</td>\n",
              "    </tr>\n",
              "    <tr>\n",
              "      <th>5</th>\n",
              "      <td>131876.90</td>\n",
              "      <td>99814.71</td>\n",
              "      <td>362861.36</td>\n",
              "      <td>New York</td>\n",
              "      <td>156991.12</td>\n",
              "    </tr>\n",
              "    <tr>\n",
              "      <th>6</th>\n",
              "      <td>134615.46</td>\n",
              "      <td>147198.87</td>\n",
              "      <td>127716.82</td>\n",
              "      <td>California</td>\n",
              "      <td>156122.51</td>\n",
              "    </tr>\n",
              "    <tr>\n",
              "      <th>7</th>\n",
              "      <td>130298.13</td>\n",
              "      <td>145530.06</td>\n",
              "      <td>323876.68</td>\n",
              "      <td>Florida</td>\n",
              "      <td>155752.60</td>\n",
              "    </tr>\n",
              "    <tr>\n",
              "      <th>8</th>\n",
              "      <td>120542.52</td>\n",
              "      <td>148718.95</td>\n",
              "      <td>311613.29</td>\n",
              "      <td>New York</td>\n",
              "      <td>152211.77</td>\n",
              "    </tr>\n",
              "    <tr>\n",
              "      <th>9</th>\n",
              "      <td>123334.88</td>\n",
              "      <td>108679.17</td>\n",
              "      <td>304981.62</td>\n",
              "      <td>California</td>\n",
              "      <td>149759.96</td>\n",
              "    </tr>\n",
              "  </tbody>\n",
              "</table>\n",
              "</div>"
            ],
            "text/plain": [
              "   R&D Spend  Administration  Marketing Spend       State     Profit\n",
              "0  165349.20       136897.80        471784.10    New York  192261.83\n",
              "1  162597.70       151377.59        443898.53  California  191792.06\n",
              "2  153441.51       101145.55        407934.54     Florida  191050.39\n",
              "3  144372.41       118671.85        383199.62    New York  182901.99\n",
              "4  142107.34        91391.77        366168.42     Florida  166187.94\n",
              "5  131876.90        99814.71        362861.36    New York  156991.12\n",
              "6  134615.46       147198.87        127716.82  California  156122.51\n",
              "7  130298.13       145530.06        323876.68     Florida  155752.60\n",
              "8  120542.52       148718.95        311613.29    New York  152211.77\n",
              "9  123334.88       108679.17        304981.62  California  149759.96"
            ]
          },
          "metadata": {},
          "execution_count": 3
        }
      ]
    },
    {
      "cell_type": "code",
      "metadata": {
        "colab": {
          "base_uri": "https://localhost:8080/"
        },
        "id": "L_mhkLvTsRL5",
        "outputId": "0a011ff3-69bb-4b4b-f904-2b42b59b3d42"
      },
      "source": [
        "#  Encoding categorical data\n",
        "transformer = ColumnTransformer(\n",
        "    transformers=[\n",
        "        (\"State\",\n",
        "         OneHotEncoder(),\n",
        "         [3]              # country column or the column on which categorical operation to be performed\n",
        "         )\n",
        "    ],\n",
        "    remainder='passthrough'\n",
        ")\n",
        "\n",
        "X = transformer.fit_transform(df.to_numpy())\n",
        "\n",
        "print(X)"
      ],
      "execution_count": 5,
      "outputs": [
        {
          "output_type": "stream",
          "name": "stdout",
          "text": [
            "[[0.0 0.0 1.0 165349.2 136897.8 471784.1 192261.83]\n",
            " [1.0 0.0 0.0 162597.7 151377.59 443898.53 191792.06]\n",
            " [0.0 1.0 0.0 153441.51 101145.55 407934.54 191050.39]\n",
            " [0.0 0.0 1.0 144372.41 118671.85 383199.62 182901.99]\n",
            " [0.0 1.0 0.0 142107.34 91391.77 366168.42 166187.94]\n",
            " [0.0 0.0 1.0 131876.9 99814.71 362861.36 156991.12]\n",
            " [1.0 0.0 0.0 134615.46 147198.87 127716.82 156122.51]\n",
            " [0.0 1.0 0.0 130298.13 145530.06 323876.68 155752.6]\n",
            " [0.0 0.0 1.0 120542.52 148718.95 311613.29 152211.77]\n",
            " [1.0 0.0 0.0 123334.88 108679.17 304981.62 149759.96]\n",
            " [0.0 1.0 0.0 101913.08 110594.11 229160.95 146121.95]\n",
            " [1.0 0.0 0.0 100671.96 91790.61 249744.55 144259.4]\n",
            " [0.0 1.0 0.0 93863.75 127320.38 249839.44 141585.52]\n",
            " [1.0 0.0 0.0 91992.39 135495.07 252664.93 134307.35]\n",
            " [0.0 1.0 0.0 119943.24 156547.42 256512.92 132602.65]\n",
            " [0.0 0.0 1.0 114523.61 122616.84 261776.23 129917.04]\n",
            " [1.0 0.0 0.0 78013.11 121597.55 264346.06 126992.93]\n",
            " [0.0 0.0 1.0 94657.16 145077.58 282574.31 125370.37]\n",
            " [0.0 1.0 0.0 91749.16 114175.79 294919.57 124266.9]\n",
            " [0.0 0.0 1.0 86419.7 153514.11 0.0 122776.86]\n",
            " [1.0 0.0 0.0 76253.86 113867.3 298664.47 118474.03]\n",
            " [0.0 0.0 1.0 78389.47 153773.43 299737.29 111313.02]\n",
            " [0.0 1.0 0.0 73994.56 122782.75 303319.26 110352.25]\n",
            " [0.0 1.0 0.0 67532.53 105751.03 304768.73 108733.99]\n",
            " [0.0 0.0 1.0 77044.01 99281.34 140574.81 108552.04]\n",
            " [1.0 0.0 0.0 64664.71 139553.16 137962.62 107404.34]\n",
            " [0.0 1.0 0.0 75328.87 144135.98 134050.07 105733.54]\n",
            " [0.0 0.0 1.0 72107.6 127864.55 353183.81 105008.31]\n",
            " [0.0 1.0 0.0 66051.52 182645.56 118148.2 103282.38]\n",
            " [0.0 0.0 1.0 65605.48 153032.06 107138.38 101004.64]\n",
            " [0.0 1.0 0.0 61994.48 115641.28 91131.24 99937.59]\n",
            " [0.0 0.0 1.0 61136.38 152701.92 88218.23 97483.56]\n",
            " [1.0 0.0 0.0 63408.86 129219.61 46085.25 97427.84]\n",
            " [0.0 1.0 0.0 55493.95 103057.49 214634.81 96778.92]\n",
            " [1.0 0.0 0.0 46426.07 157693.92 210797.67 96712.8]\n",
            " [0.0 0.0 1.0 46014.02 85047.44 205517.64 96479.51]\n",
            " [0.0 1.0 0.0 28663.76 127056.21 201126.82 90708.19]\n",
            " [1.0 0.0 0.0 44069.95 51283.14 197029.42 89949.14]\n",
            " [0.0 0.0 1.0 20229.59 65947.93 185265.1 81229.06]\n",
            " [1.0 0.0 0.0 38558.51 82982.09 174999.3 81005.76]\n",
            " [1.0 0.0 0.0 28754.33 118546.05 172795.67 78239.91]\n",
            " [0.0 1.0 0.0 27892.92 84710.77 164470.71 77798.83]\n",
            " [1.0 0.0 0.0 23640.93 96189.63 148001.11 71498.49]\n",
            " [0.0 0.0 1.0 15505.73 127382.3 35534.17 69758.98]\n",
            " [1.0 0.0 0.0 22177.74 154806.14 28334.72 65200.33]\n",
            " [0.0 0.0 1.0 1000.23 124153.04 1903.93 64926.08]\n",
            " [0.0 1.0 0.0 1315.46 115816.21 297114.46 49490.75]\n",
            " [1.0 0.0 0.0 0.0 135426.92 0.0 42559.73]\n",
            " [0.0 0.0 1.0 542.05 51743.15 0.0 35673.41]\n",
            " [1.0 0.0 0.0 0.0 116983.8 45173.06 14681.4]]\n"
          ]
        }
      ]
    },
    {
      "cell_type": "code",
      "metadata": {
        "colab": {
          "base_uri": "https://localhost:8080/",
          "height": 357
        },
        "id": "3WoZlgmPv8B3",
        "outputId": "17fc621d-4973-4487-b331-b9a721c05e30"
      },
      "source": [
        "pd.options.display.float_format = '{:,.2f}'.format\n",
        "df = pd.DataFrame(X, columns=[\"State (California)\", \"State (Florida)\",  \n",
        "                         \"State (New York)\", \"R&D Spend\", \n",
        "                         \"Administration\", \"Marketing\", \"Profit\"])\n",
        "df.head(10)"
      ],
      "execution_count": 6,
      "outputs": [
        {
          "output_type": "execute_result",
          "data": {
            "text/html": [
              "<div>\n",
              "<style scoped>\n",
              "    .dataframe tbody tr th:only-of-type {\n",
              "        vertical-align: middle;\n",
              "    }\n",
              "\n",
              "    .dataframe tbody tr th {\n",
              "        vertical-align: top;\n",
              "    }\n",
              "\n",
              "    .dataframe thead th {\n",
              "        text-align: right;\n",
              "    }\n",
              "</style>\n",
              "<table border=\"1\" class=\"dataframe\">\n",
              "  <thead>\n",
              "    <tr style=\"text-align: right;\">\n",
              "      <th></th>\n",
              "      <th>State (California)</th>\n",
              "      <th>State (Florida)</th>\n",
              "      <th>State (New York)</th>\n",
              "      <th>R&amp;D Spend</th>\n",
              "      <th>Administration</th>\n",
              "      <th>Marketing</th>\n",
              "      <th>Profit</th>\n",
              "    </tr>\n",
              "  </thead>\n",
              "  <tbody>\n",
              "    <tr>\n",
              "      <th>0</th>\n",
              "      <td>0.00</td>\n",
              "      <td>0.00</td>\n",
              "      <td>1.00</td>\n",
              "      <td>165,349.20</td>\n",
              "      <td>136,897.80</td>\n",
              "      <td>471,784.10</td>\n",
              "      <td>192,261.83</td>\n",
              "    </tr>\n",
              "    <tr>\n",
              "      <th>1</th>\n",
              "      <td>1.00</td>\n",
              "      <td>0.00</td>\n",
              "      <td>0.00</td>\n",
              "      <td>162,597.70</td>\n",
              "      <td>151,377.59</td>\n",
              "      <td>443,898.53</td>\n",
              "      <td>191,792.06</td>\n",
              "    </tr>\n",
              "    <tr>\n",
              "      <th>2</th>\n",
              "      <td>0.00</td>\n",
              "      <td>1.00</td>\n",
              "      <td>0.00</td>\n",
              "      <td>153,441.51</td>\n",
              "      <td>101,145.55</td>\n",
              "      <td>407,934.54</td>\n",
              "      <td>191,050.39</td>\n",
              "    </tr>\n",
              "    <tr>\n",
              "      <th>3</th>\n",
              "      <td>0.00</td>\n",
              "      <td>0.00</td>\n",
              "      <td>1.00</td>\n",
              "      <td>144,372.41</td>\n",
              "      <td>118,671.85</td>\n",
              "      <td>383,199.62</td>\n",
              "      <td>182,901.99</td>\n",
              "    </tr>\n",
              "    <tr>\n",
              "      <th>4</th>\n",
              "      <td>0.00</td>\n",
              "      <td>1.00</td>\n",
              "      <td>0.00</td>\n",
              "      <td>142,107.34</td>\n",
              "      <td>91,391.77</td>\n",
              "      <td>366,168.42</td>\n",
              "      <td>166,187.94</td>\n",
              "    </tr>\n",
              "    <tr>\n",
              "      <th>5</th>\n",
              "      <td>0.00</td>\n",
              "      <td>0.00</td>\n",
              "      <td>1.00</td>\n",
              "      <td>131,876.90</td>\n",
              "      <td>99,814.71</td>\n",
              "      <td>362,861.36</td>\n",
              "      <td>156,991.12</td>\n",
              "    </tr>\n",
              "    <tr>\n",
              "      <th>6</th>\n",
              "      <td>1.00</td>\n",
              "      <td>0.00</td>\n",
              "      <td>0.00</td>\n",
              "      <td>134,615.46</td>\n",
              "      <td>147,198.87</td>\n",
              "      <td>127,716.82</td>\n",
              "      <td>156,122.51</td>\n",
              "    </tr>\n",
              "    <tr>\n",
              "      <th>7</th>\n",
              "      <td>0.00</td>\n",
              "      <td>1.00</td>\n",
              "      <td>0.00</td>\n",
              "      <td>130,298.13</td>\n",
              "      <td>145,530.06</td>\n",
              "      <td>323,876.68</td>\n",
              "      <td>155,752.60</td>\n",
              "    </tr>\n",
              "    <tr>\n",
              "      <th>8</th>\n",
              "      <td>0.00</td>\n",
              "      <td>0.00</td>\n",
              "      <td>1.00</td>\n",
              "      <td>120,542.52</td>\n",
              "      <td>148,718.95</td>\n",
              "      <td>311,613.29</td>\n",
              "      <td>152,211.77</td>\n",
              "    </tr>\n",
              "    <tr>\n",
              "      <th>9</th>\n",
              "      <td>1.00</td>\n",
              "      <td>0.00</td>\n",
              "      <td>0.00</td>\n",
              "      <td>123,334.88</td>\n",
              "      <td>108,679.17</td>\n",
              "      <td>304,981.62</td>\n",
              "      <td>149,759.96</td>\n",
              "    </tr>\n",
              "  </tbody>\n",
              "</table>\n",
              "</div>"
            ],
            "text/plain": [
              "  State (California) State (Florida)  ...  Marketing     Profit\n",
              "0               0.00            0.00  ... 471,784.10 192,261.83\n",
              "1               1.00            0.00  ... 443,898.53 191,792.06\n",
              "2               0.00            1.00  ... 407,934.54 191,050.39\n",
              "3               0.00            0.00  ... 383,199.62 182,901.99\n",
              "4               0.00            1.00  ... 366,168.42 166,187.94\n",
              "5               0.00            0.00  ... 362,861.36 156,991.12\n",
              "6               1.00            0.00  ... 127,716.82 156,122.51\n",
              "7               0.00            1.00  ... 323,876.68 155,752.60\n",
              "8               0.00            0.00  ... 311,613.29 152,211.77\n",
              "9               1.00            0.00  ... 304,981.62 149,759.96\n",
              "\n",
              "[10 rows x 7 columns]"
            ]
          },
          "metadata": {},
          "execution_count": 6
        }
      ]
    },
    {
      "cell_type": "code",
      "metadata": {
        "colab": {
          "base_uri": "https://localhost:8080/",
          "height": 203
        },
        "id": "89ZG5wahAKad",
        "outputId": "93084ff5-0846-4e94-fa63-ddcaf45e9dc5"
      },
      "source": [
        "df.tail(5)"
      ],
      "execution_count": 7,
      "outputs": [
        {
          "output_type": "execute_result",
          "data": {
            "text/html": [
              "<div>\n",
              "<style scoped>\n",
              "    .dataframe tbody tr th:only-of-type {\n",
              "        vertical-align: middle;\n",
              "    }\n",
              "\n",
              "    .dataframe tbody tr th {\n",
              "        vertical-align: top;\n",
              "    }\n",
              "\n",
              "    .dataframe thead th {\n",
              "        text-align: right;\n",
              "    }\n",
              "</style>\n",
              "<table border=\"1\" class=\"dataframe\">\n",
              "  <thead>\n",
              "    <tr style=\"text-align: right;\">\n",
              "      <th></th>\n",
              "      <th>State (California)</th>\n",
              "      <th>State (Florida)</th>\n",
              "      <th>State (New York)</th>\n",
              "      <th>R&amp;D Spend</th>\n",
              "      <th>Administration</th>\n",
              "      <th>Marketing</th>\n",
              "      <th>Profit</th>\n",
              "    </tr>\n",
              "  </thead>\n",
              "  <tbody>\n",
              "    <tr>\n",
              "      <th>45</th>\n",
              "      <td>0.00</td>\n",
              "      <td>0.00</td>\n",
              "      <td>1.00</td>\n",
              "      <td>1,000.23</td>\n",
              "      <td>124,153.04</td>\n",
              "      <td>1,903.93</td>\n",
              "      <td>64,926.08</td>\n",
              "    </tr>\n",
              "    <tr>\n",
              "      <th>46</th>\n",
              "      <td>0.00</td>\n",
              "      <td>1.00</td>\n",
              "      <td>0.00</td>\n",
              "      <td>1,315.46</td>\n",
              "      <td>115,816.21</td>\n",
              "      <td>297,114.46</td>\n",
              "      <td>49,490.75</td>\n",
              "    </tr>\n",
              "    <tr>\n",
              "      <th>47</th>\n",
              "      <td>1.00</td>\n",
              "      <td>0.00</td>\n",
              "      <td>0.00</td>\n",
              "      <td>0.00</td>\n",
              "      <td>135,426.92</td>\n",
              "      <td>0.00</td>\n",
              "      <td>42,559.73</td>\n",
              "    </tr>\n",
              "    <tr>\n",
              "      <th>48</th>\n",
              "      <td>0.00</td>\n",
              "      <td>0.00</td>\n",
              "      <td>1.00</td>\n",
              "      <td>542.05</td>\n",
              "      <td>51,743.15</td>\n",
              "      <td>0.00</td>\n",
              "      <td>35,673.41</td>\n",
              "    </tr>\n",
              "    <tr>\n",
              "      <th>49</th>\n",
              "      <td>1.00</td>\n",
              "      <td>0.00</td>\n",
              "      <td>0.00</td>\n",
              "      <td>0.00</td>\n",
              "      <td>116,983.80</td>\n",
              "      <td>45,173.06</td>\n",
              "      <td>14,681.40</td>\n",
              "    </tr>\n",
              "  </tbody>\n",
              "</table>\n",
              "</div>"
            ],
            "text/plain": [
              "   State (California) State (Florida)  ...  Marketing    Profit\n",
              "45               0.00            0.00  ...   1,903.93 64,926.08\n",
              "46               0.00            1.00  ... 297,114.46 49,490.75\n",
              "47               1.00            0.00  ...       0.00 42,559.73\n",
              "48               0.00            0.00  ...       0.00 35,673.41\n",
              "49               1.00            0.00  ...  45,173.06 14,681.40\n",
              "\n",
              "[5 rows x 7 columns]"
            ]
          },
          "metadata": {},
          "execution_count": 7
        }
      ]
    },
    {
      "cell_type": "code",
      "metadata": {
        "id": "6kYS9m6NONa9"
      },
      "source": [
        "X = df.iloc[:, :6].to_numpy()\n",
        "y = df.loc[:, \"Profit\"].to_numpy().reshape(-1, 1)"
      ],
      "execution_count": 8,
      "outputs": []
    },
    {
      "cell_type": "code",
      "metadata": {
        "colab": {
          "base_uri": "https://localhost:8080/"
        },
        "id": "LhWfAx8Skeyt",
        "outputId": "794e4646-8bd4-44a8-e7f8-a91a53e9ee45"
      },
      "source": [
        "print(X.shape)\n",
        "print(y.shape)"
      ],
      "execution_count": 9,
      "outputs": [
        {
          "output_type": "stream",
          "name": "stdout",
          "text": [
            "(50, 6)\n",
            "(50, 1)\n"
          ]
        }
      ]
    },
    {
      "cell_type": "code",
      "metadata": {
        "id": "wXSc7EDBhkkK",
        "colab": {
          "base_uri": "https://localhost:8080/"
        },
        "outputId": "3934fdcd-85c5-4dec-f225-d532d51559d9"
      },
      "source": [
        "X_train, X_test, y_train, y_test = train_test_split(X, y, test_size=0.2, random_state=42)\n",
        "print(X_train.shape)\n",
        "print(y_train.shape)\n",
        "\n",
        "print(X_test.shape)\n",
        "print(y_test.shape)"
      ],
      "execution_count": 10,
      "outputs": [
        {
          "output_type": "stream",
          "name": "stdout",
          "text": [
            "(40, 6)\n",
            "(40, 1)\n",
            "(10, 6)\n",
            "(10, 1)\n"
          ]
        }
      ]
    },
    {
      "cell_type": "markdown",
      "metadata": {
        "id": "tGdXBY2goBF0"
      },
      "source": [
        "# Linear Regression Model"
      ]
    },
    {
      "cell_type": "code",
      "metadata": {
        "id": "zzLjllSllBc1"
      },
      "source": [
        "model = LinearRegression()\n",
        "model.fit(X_train, y_train)\n",
        "\n",
        "y_predict = model.predict(X_test)"
      ],
      "execution_count": 11,
      "outputs": []
    },
    {
      "cell_type": "code",
      "metadata": {
        "colab": {
          "base_uri": "https://localhost:8080/"
        },
        "id": "XERfRlWYjd8S",
        "outputId": "d76fa0df-d07a-480a-9fdc-0554baf5d961"
      },
      "source": [
        "print(\"Coefficients: \\n\", model.coef_)\n",
        "print(\"Mean squared error: %.2f\" % mean_squared_error(y_test, y_predict))\n",
        "print(\"Coefficient of determination: %.2f\" % r2_score(y_test, y_predict))"
      ],
      "execution_count": 12,
      "outputs": [
        {
          "output_type": "stream",
          "name": "stdout",
          "text": [
            "Coefficients: \n",
            " [[-3.15260255e+02  6.23532751e+02 -3.08272495e+02  8.05630064e-01\n",
            "  -6.87878823e-02  2.98554429e-02]]\n",
            "Mean squared error: 82010363.05\n",
            "Coefficient of determination: 0.90\n"
          ]
        }
      ]
    },
    {
      "cell_type": "markdown",
      "metadata": {
        "id": "RDCdI5rTmYIy"
      },
      "source": [
        "# Dùng KFold"
      ]
    },
    {
      "cell_type": "code",
      "metadata": {
        "colab": {
          "base_uri": "https://localhost:8080/"
        },
        "id": "W0T4Km9Pklmy",
        "outputId": "a0ef1aa5-936b-4bf5-bd46-38506856a935"
      },
      "source": [
        "k = 5\n",
        "kf = KFold(n_splits=k, random_state=None)\n",
        "model = LinearRegression()\n",
        "# using negative MSE\n",
        "score = cross_val_score(model, X , y, scoring='neg_mean_squared_error', cv = kf)\n",
        "print(\"Score = \", score)\n",
        "print(\"Negative MSE = \", score.mean())"
      ],
      "execution_count": 13,
      "outputs": [
        {
          "output_type": "stream",
          "name": "stdout",
          "text": [
            "Score =  [-3.19757405e+07 -1.31773822e+08 -3.80623882e+07 -7.47211906e+07\n",
            " -2.39539562e+08]\n",
            "Negative MSE =  -103214540.65469384\n"
          ]
        }
      ]
    }
  ]
}